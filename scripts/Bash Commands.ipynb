{
 "cells": [
  {
   "cell_type": "markdown",
   "metadata": {
    "collapsed": true
   },
   "source": [
    "### Removes adaptor 6 from the beginning and 100 nucleotides from the end of the reverse reads"
   ]
  },
  {
   "cell_type": "code",
   "execution_count": null,
   "metadata": {
    "collapsed": false
   },
   "outputs": [],
   "source": [
    "%%bash \n",
    "ssh markov@pbil-deb.univ-lyon1.fr\n"
   ]
  },
  {
   "cell_type": "code",
   "execution_count": 2,
   "metadata": {
    "collapsed": false
   },
   "outputs": [
    {
     "name": "stderr",
     "output_type": "stream",
     "text": [
      "bash: line 2: cutadapt: command not found\n"
     ]
    }
   ],
   "source": [
    "%%bash\n",
    "\n",
    "cutadapt -b GATCGGAAGAGCACACGTCTGAACTCCAGTCACGCCAATATCTCGTATGCCGTCTTCTGCTTG -u -100 -o 100longreads_noadapt6_reversereads.gz 000000000-AA89J_DENV-SN_15s010754-1-1_DREUX_lane115s010754_2_sequence.txt.gz"
   ]
  },
  {
   "cell_type": "markdown",
   "metadata": {},
   "source": [
    "### Removes adaptor 6 from the beginning (top line) and in addition removes 200 nucleotides from the end of the forward reads (bottom line)"
   ]
  },
  {
   "cell_type": "code",
   "execution_count": null,
   "metadata": {
    "collapsed": true
   },
   "outputs": [],
   "source": [
    "cutadapt -b GATCGGAAGAGCACACGTCTGAACTCCAGTCACGCCAATATCTCGTATGCCGTCTTCTGCTTG -o /pandata/markov/Dengomics/mergetwoway_kass_noadap.gz /pandata/markov/Dengomics/twoway_merge_from_kassian_unlimQ.fastq.gz\n",
    "cutadapt -b GATCGGAAGAGCACACGTCTGAACTCCAGTCACGCCAATATCTCGTATGCCGTCTTCTGCTTG -u -200 -o /pandata/markov/Dengomics/100longreads_noadapt6_forwardreads.gz /pandata/markov/Dengomics/000000000-AA89J_DENV-SN_15s010754-1-1_DREUX_lane115s010754_1_sequence.txt.gz"
   ]
  },
  {
   "cell_type": "markdown",
   "metadata": {},
   "source": [
    "### Creates the .bam file"
   ]
  },
  {
   "cell_type": "code",
   "execution_count": null,
   "metadata": {
    "collapsed": true
   },
   "outputs": [],
   "source": [
    "/usr/remote/bin/bowtie2 -p 4 -x /pandata/markov/Dengomics/NGC_inedex -1 /pandata/markov/Dengomics/100longreads_noadapt6_forwardreads.gz -2 /pandata/markov/Dengomics/100longreads_noadapt6_reversereads.gz  | /usr/remote/bin/samtools view -Sb -h - > /pandata/markov/Dengomics/twoway_trimmed.bam"
   ]
  },
  {
   "cell_type": "markdown",
   "metadata": {},
   "source": [
    "### Changes the header of the .bam file"
   ]
  },
  {
   "cell_type": "code",
   "execution_count": null,
   "metadata": {
    "collapsed": true
   },
   "outputs": [],
   "source": [
    "samtools view -H  /pandata/markov/Dengomics/twoway_trimmed.bam | sed -e 's/SN:/SN:NGC_virus/' | samtools reheader -  /pandata/markov/Dengomics/twoway_trimmed.bam >  /pandata/markov/Dengomics/twoway_trimmed_rehead.bam"
   ]
  },
  {
   "cell_type": "markdown",
   "metadata": {},
   "source": [
    "### Sorts the bam file"
   ]
  },
  {
   "cell_type": "code",
   "execution_count": null,
   "metadata": {
    "collapsed": true
   },
   "outputs": [],
   "source": [
    "/panhome/duret/bin/samtools sort -l 0 -o /pandata/markov/Dengomics/twoway_trimd_rehead_sorted.bam -O bam -T /pandata/markov/Dengomics/alignments2ndRead2.temp -@ 4 /pandata/markov/Dengomics/twoway_trimmed_rehead.bam"
   ]
  },
  {
   "cell_type": "markdown",
   "metadata": {},
   "source": [
    "### Indexes the .bam file"
   ]
  },
  {
   "cell_type": "code",
   "execution_count": null,
   "metadata": {
    "collapsed": true
   },
   "outputs": [],
   "source": [
    "/panhome/duret/bin/samtools index -b /pandata/markov/Dengomics/twoway_trimd_rehead_sorted.bam"
   ]
  },
  {
   "cell_type": "code",
   "execution_count": null,
   "metadata": {
    "collapsed": true
   },
   "outputs": [],
   "source": []
  }
 ],
 "metadata": {
  "kernelspec": {
   "display_name": "Python 3",
   "language": "python",
   "name": "python3"
  },
  "language_info": {
   "codemirror_mode": {
    "name": "ipython",
    "version": 3
   },
   "file_extension": ".py",
   "mimetype": "text/x-python",
   "name": "python",
   "nbconvert_exporter": "python",
   "pygments_lexer": "ipython3",
   "version": "3.5.1"
  }
 },
 "nbformat": 4,
 "nbformat_minor": 0
}
