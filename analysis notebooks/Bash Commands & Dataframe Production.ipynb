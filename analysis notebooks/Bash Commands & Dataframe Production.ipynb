{
 "cells": [
  {
   "cell_type": "code",
   "execution_count": null,
   "metadata": {
    "collapsed": true
   },
   "outputs": [],
   "source": [
    "%%bash\n",
    "#python /Users/pvmarkov/dengue/scripts/doing_merge_kass_cover_majorb_seqqual60ON_alignqualOFF_pairsOFF.py&\n",
    "#python /Users/pvmarkov/dengue/scripts/doing_merge_kass_cover_majorb_seqqualOFF_alignqualOFF_pairsOFF.py&\n",
    "#python /Users/pvmarkov/dengue/scripts/doing_merge_kass_cover_majorb_seqqualOFF_alignqualON_pairsOFF.py\n",
    "python /Users/pvmarkov/dengue/scripts/indel_analysis_testrun_with_subset_dataset_1.py"
   ]
  },
  {
   "cell_type": "code",
   "execution_count": null,
   "metadata": {
    "collapsed": true
   },
   "outputs": [],
   "source": [
    "%%bash\n",
    "#python /Users/pvmarkov/dengue/scripts/doing_merge_kass_cover_majorb_seqqualOFF_alignqualON_pairsOFF.py&\n",
    "python /Users/pvmarkov/dengue/scripts/indels_by_position_with_mergeddatakass_seqqualON_alignqualON_pairsOFF.py"
   ]
  },
  {
   "cell_type": "code",
   "execution_count": null,
   "metadata": {
    "collapsed": true
   },
   "outputs": [],
   "source": [
    "%%bash\n",
    "python /Users/pvmarkov/dengue/scripts/indels_by_position_with_nonmerged_two_way_data_seqqualON_alignqualON_pairsOFF.py"
   ]
  },
  {
   "cell_type": "code",
   "execution_count": null,
   "metadata": {
    "collapsed": true
   },
   "outputs": [],
   "source": [
    "%%bash\n",
    "python /Users/pvmarkov/dengue/scripts/indels_by_position_with_nonmerged_two_way_data_2run_seqqualOFF_alignqualOFF_pairsOFF.py"
   ]
  },
  {
   "cell_type": "code",
   "execution_count": null,
   "metadata": {
    "collapsed": true
   },
   "outputs": [],
   "source": [
    "%%bash\n",
    "#python /Users/pvmarkov/dengue/scripts/doing_merge_kass_cover_majorb_seqqualOFF_alignqualON_pairsOFF.py&\n",
    "python /Users/pvmarkov/dengue/scripts/indel_analysis_testrun_with_subset_dataset_2.py"
   ]
  },
  {
   "cell_type": "code",
   "execution_count": null,
   "metadata": {
    "collapsed": true
   },
   "outputs": [],
   "source": [
    "%%bash\n",
    "python /Users/pvmarkov/dengue/scripts/indels_investigation_mergeddatakass_seqqualON_alignqualON_pairsOFF.py"
   ]
  },
  {
   "cell_type": "code",
   "execution_count": null,
   "metadata": {
    "collapsed": true
   },
   "outputs": [],
   "source": [
    "%%bash\n",
    "python /Users/pvmarkov/dengue/scripts/indels_investigation_nonmerged_two_way_data_seqqualON30_alignqualOFF_pairsOFF.py"
   ]
  },
  {
   "cell_type": "code",
   "execution_count": null,
   "metadata": {
    "collapsed": true
   },
   "outputs": [],
   "source": [
    "%%bash\n",
    "#number of indels was not successfully calculated in previous larger analysis, so doing it here for the separate reads data...\n",
    "python /Users/pvmarkov/dengue/scripts/indels_investigation_nonmerged_two_way_data_seqqualOFF_alignqualOFF_pairsOFFjustINDELNUMBER.py\n",
    "#number of indels was not successfully calculated in previous larger analysis, so doing it here for teh merged dataset...\n",
    "python /Users/pvmarkov/dengue/scripts/indels_investigation_mergeddatakass_seqqualOFF_alignqualOFF_pairsOFFjustINDELNUMBER.py&"
   ]
  },
  {
   "cell_type": "markdown",
   "metadata": {},
   "source": [
    "Preparing Separate .csvs for Forward and Reverse Reads for Kassian (30/03/16)\n",
    "-Producing a .bam file from the forward read. Used the trimmed reads file with removed adaptor 6 and low quality sequences at the end."
   ]
  },
  {
   "cell_type": "code",
   "execution_count": null,
   "metadata": {
    "collapsed": true
   },
   "outputs": [],
   "source": [
    "%%bash\n",
    "/Users/pvmarkov/dengue/bin/bowtie2-2.2.8/bowtie2 -x /Users/pvmarkov/dengue/data/NGC_inedex -U /Users/pvmarkov/dengue/data/100longreads_noadapt6_forwardreads.gz  | /Users/pvmarkov/dengue/bin/samtools view -Sb - > /Users/pvmarkov/dengue/data/100longreads_noadapt6_forwardreads.bam"
   ]
  },
  {
   "cell_type": "markdown",
   "metadata": {},
   "source": [
    "-Producing a .bam file from the reverse read. Used the trimmed reads file with removed adaptor 6 and low quality sequences at the end."
   ]
  },
  {
   "cell_type": "code",
   "execution_count": null,
   "metadata": {
    "collapsed": true
   },
   "outputs": [],
   "source": [
    "%%bash\n",
    "/Users/pvmarkov/dengue/bin/bowtie2-2.2.8/bowtie2 -x /Users/pvmarkov/dengue/data/NGC_inedex -U /Users/pvmarkov/dengue/data/100longreads_noadapt6_reversereads.gz  | /Users/pvmarkov/dengue/bin/samtools view -Sb - > /Users/pvmarkov/dengue/data/100longreads_noadapt6_reversereads.bam"
   ]
  },
  {
   "cell_type": "markdown",
   "metadata": {},
   "source": [
    "-Reheading the two .bam files in the following two cells."
   ]
  },
  {
   "cell_type": "code",
   "execution_count": null,
   "metadata": {
    "collapsed": true
   },
   "outputs": [],
   "source": [
    "%%bash\n",
    "/Users/pvmarkov/dengue/bin/samtools view -H /Users/pvmarkov/dengue/data/100longreads_noadapt6_forwardreads.bam | sed -e 's/SN:/SN:NGC_virus/' | /Users/pvmarkov/dengue/bin/samtools reheader - /Users/pvmarkov/dengue/data/100longreads_noadapt6_forwardreads.bam > /Users/pvmarkov/dengue/data/100longreads_noadapt6_forward_rehead.bam"
   ]
  },
  {
   "cell_type": "code",
   "execution_count": null,
   "metadata": {
    "collapsed": true
   },
   "outputs": [],
   "source": [
    "%%bash\n",
    "/Users/pvmarkov/dengue/bin/samtools view -H /Users/pvmarkov/dengue/data/100longreads_noadapt6_reversereads.bam | sed -e 's/SN:/SN:NGC_virus/' | /Users/pvmarkov/dengue/bin/samtools reheader - /Users/pvmarkov/dengue/data/100longreads_noadapt6_reversereads.bam > /Users/pvmarkov/dengue/data/100longreads_noadapt6_reverse_rehead.bam"
   ]
  },
  {
   "cell_type": "markdown",
   "metadata": {},
   "source": [
    "- Sorting and indexing the reheaded two bam files in the following two cells."
   ]
  },
  {
   "cell_type": "code",
   "execution_count": null,
   "metadata": {
    "collapsed": true
   },
   "outputs": [],
   "source": [
    "%%bash\n",
    "/Users/pvmarkov/dengue/bin/samtools sort -l 0 -o /Users/pvmarkov/dengue/data/100longreads_noadapt6_reverse_rehead_sorted.bam -O bam -T /Users/pvmarkov/dengue/data/alignments2ndRead.temp -@ 2 /Users/pvmarkov/dengue/data/100longreads_noadapt6_reverse_rehead.bam\n",
    "/Users/pvmarkov/dengue/bin/samtools index -b /Users/pvmarkov/dengue/data/100longreads_noadapt6_reverse_rehead_sorted.bam"
   ]
  },
  {
   "cell_type": "code",
   "execution_count": null,
   "metadata": {
    "collapsed": true
   },
   "outputs": [],
   "source": [
    "%%bash\n",
    "/Users/pvmarkov/dengue/bin/samtools sort -l 0 -o /Users/pvmarkov/dengue/data/100longreads_noadapt6_forward_rehead_sorted.bam -O bam -T /Users/pvmarkov/dengue/data/alignments2ndRead.temp -@ 2 /Users/pvmarkov/dengue/data/100longreads_noadapt6_forward_rehead.bam\n",
    "/Users/pvmarkov/dengue/bin/samtools index -b /Users/pvmarkov/dengue/data/100longreads_noadapt6_forward_rehead_sorted.bam"
   ]
  },
  {
   "cell_type": "markdown",
   "metadata": {},
   "source": [
    "- Producing .csv files from the two sorted & indexed bam files. The two .bam files are processed in parallel below. Each of the two parallel processes generates 3 separate .csv files: 1. Contains nucleotide counts and statistics by genome position; 2. Contains number of indels per read; 3. Contains number of indels found in the alignment, by indel length."
   ]
  },
  {
   "cell_type": "code",
   "execution_count": null,
   "metadata": {
    "collapsed": true
   },
   "outputs": [],
   "source": [
    "%%bash\n",
    "python /Users/pvmarkov/dengue/scripts/indels_investigation_FORWARD_READS_ONLY_seqqualOFF_alignqualOFF_pairsOFF.py&\n",
    "python /Users/pvmarkov/dengue/scripts/indels_investigation_REVERSE_READS_ONLY_seqqualOFF_alignqualOFF_pairsOFF.py&"
   ]
  },
  {
   "cell_type": "markdown",
   "metadata": {},
   "source": [
    "Below cell recreates csv files from the pilotdata. It repeats an earlier analysis done elsewhere, where the produced indel numbers in reads were incorrect. This analysis here is done after fixing the bug in the functions2.py file."
   ]
  },
  {
   "cell_type": "code",
   "execution_count": 2,
   "metadata": {
    "collapsed": false
   },
   "outputs": [
    {
     "name": "stdout",
     "output_type": "stream",
     "text": [
      "Process is interrupted.\n"
     ]
    }
   ],
   "source": [
    "%%bash\n",
    "python /Users/pvmarkov/dengue/scripts/pilotdata_mergeddatakass_seqqualON30_alignqualOFF_pairsOFF.py&\n",
    "python /Users/pvmarkov/dengue/scripts/pilotdata_nonmerged_two_way_data_seqqualON30_alignqualOFF_pairsOFF.py&"
   ]
  },
  {
   "cell_type": "markdown",
   "metadata": {},
   "source": [
    "Same as above, only switching on alignemnt quality. In analysis above it is switched off. This results in appearance of indels of bigger lenght, up to 50+. Switching on alignment quality is a way to take care of this and check if this is the reason for the longer indels."
   ]
  },
  {
   "cell_type": "code",
   "execution_count": 3,
   "metadata": {
    "collapsed": false
   },
   "outputs": [
    {
     "name": "stdout",
     "output_type": "stream",
     "text": [
      "                  As             Cs             Gs     Ns             Ts  \\\n",
      "count   10716.000000   10716.000000   10716.000000  10716   10716.000000   \n",
      "mean    41635.363195   26359.926745   31996.367675      0   26321.833053   \n",
      "std     61354.369366   53186.957540   56488.962434      0   52664.259974   \n",
      "min         0.000000       0.000000       0.000000      0       0.000000   \n",
      "25%        12.000000      12.000000       5.000000      0       9.000000   \n",
      "50%        35.000000      23.000000      18.000000      0      17.000000   \n",
      "75%    111972.750000      82.000000   57421.000000      0      44.000000   \n",
      "max    205680.000000  207135.000000  206932.000000      0  206017.000000   \n",
      "\n",
      "            coverage  expected_number_of_errors  majorbase_ratio  \\\n",
      "count   10716.000000               10716.000000     10716.000000   \n",
      "mean   126313.491041                   7.987927         0.998958   \n",
      "std     27683.870050                   1.750668         0.019937   \n",
      "min         1.000000                   0.000000         0.000000   \n",
      "25%    113255.000000                   7.162771         0.999382   \n",
      "50%    127322.000000                   8.050657         0.999585   \n",
      "75%    140749.250000                   8.906181         0.999709   \n",
      "max    207224.000000                  13.104732         1.000000   \n",
      "\n",
      "          majorbases  number_of_indels_by_position      position  \\\n",
      "count   10716.000000                  10716.000000  10716.000000   \n",
      "mean   126237.345651                     16.236376   5357.500000   \n",
      "std     27671.493205                    347.891006   3093.587077   \n",
      "min         0.000000                      0.000000      0.000000   \n",
      "25%    113202.000000                      0.000000   2678.750000   \n",
      "50%    127273.500000                      1.000000   5357.500000   \n",
      "75%    140704.000000                      3.000000   8036.250000   \n",
      "max    207135.000000                  17784.000000  10715.000000   \n",
      "\n",
      "       probability_of_seq_error    secondbase  secondbase_ratio  \n",
      "count              10716.000000  10716.000000      10716.000000  \n",
      "mean                   0.000063     47.735162          0.000439  \n",
      "std                    0.000001    104.947089          0.004927  \n",
      "min                    0.000000      0.000000          0.000000  \n",
      "25%                    0.000063     19.000000          0.000151  \n",
      "50%                    0.000063     29.000000          0.000230  \n",
      "75%                    0.000063     47.000000          0.000367  \n",
      "max                    0.000064   6710.000000          0.500000  \n",
      "       number_of_indels_per_read  number_of_reads_with_given_indel_number\n",
      "count                  12.000000                                12.000000\n",
      "mean                    5.500000                            704315.500000\n",
      "std                     3.605551                           2380302.679219\n",
      "min                     0.000000                                 2.000000\n",
      "25%                     2.750000                                34.250000\n",
      "50%                     5.500000                               392.000000\n",
      "75%                     8.250000                              3778.250000\n",
      "max                    11.000000                           8261041.000000\n",
      "       indel_size  number_of_indels_by_size\n",
      "count   27.000000                 27.000000\n",
      "mean    -0.777778               6444.037037\n",
      "std      8.789563              24137.539962\n",
      "min    -16.000000                  1.000000\n",
      "25%     -7.500000                  5.000000\n",
      "50%     -1.000000                 36.000000\n",
      "75%      6.500000                445.500000\n",
      "max     13.000000             123263.000000\n",
      "                  As             Cs             Gs     Ns             Ts  \\\n",
      "count   10718.000000   10718.000000   10718.000000  10718   10718.000000   \n",
      "mean    47650.454749   29946.062325   36053.359209      0   29713.623157   \n",
      "std     70546.994545   60708.958967   63950.274323      0   59643.514226   \n",
      "min         0.000000       0.000000       0.000000      0       0.000000   \n",
      "25%        27.000000      19.000000       9.000000      0      28.000000   \n",
      "50%        70.000000      35.000000      24.000000      0      56.000000   \n",
      "75%    125323.500000     110.000000   62172.750000      0     214.000000   \n",
      "max    252639.000000  256914.000000  253737.000000      0  251225.000000   \n",
      "\n",
      "            coverage  expected_number_of_errors  majorbase_ratio  \\\n",
      "count   10718.000000               10718.000000     10718.000000   \n",
      "mean   143363.499907                   9.121304         0.998212   \n",
      "std     33927.309587                   2.155213         0.023109   \n",
      "min         1.000000                   0.000000         0.000000   \n",
      "25%    125764.500000                   8.003639         0.998745   \n",
      "50%    143549.500000                   9.131720         0.999228   \n",
      "75%    161097.250000                  10.248441         0.999497   \n",
      "max    257051.000000                  16.367103         1.000000   \n",
      "\n",
      "          majorbases  number_of_indels_by_position      position  \\\n",
      "count   10718.000000                  10718.000000  10718.000000   \n",
      "mean   143208.499720                     17.994309   5358.500000   \n",
      "std     33902.732302                    367.034598   3094.164427   \n",
      "min         0.000000                      0.000000      0.000000   \n",
      "25%    125617.000000                      0.000000   2679.250000   \n",
      "50%    143401.500000                      1.000000   5358.500000   \n",
      "75%    160945.500000                      4.000000   8037.750000   \n",
      "max    256914.000000                  20297.000000  10717.000000   \n",
      "\n",
      "       probability_of_seq_error    secondbase  secondbase_ratio  \n",
      "count              10718.000000  10718.000000      10718.000000  \n",
      "mean                   0.000064     99.087330          0.000915  \n",
      "std                    0.000001    146.869051          0.008081  \n",
      "min                    0.000000      0.000000          0.000000  \n",
      "25%                    0.000064     36.000000          0.000261  \n",
      "50%                    0.000064     61.000000          0.000425  \n",
      "75%                    0.000064    110.000000          0.000767  \n",
      "max                    0.000100   7688.000000          0.500000  \n",
      "       number_of_indels_per_read  number_of_reads_with_given_indel_number\n",
      "count                   6.000000                                 6.000000\n",
      "mean                    1.500000                           2840065.000000\n",
      "std                     1.870829                           6667029.251372\n",
      "min                    -1.000000                               325.000000\n",
      "25%                     0.250000                             17814.250000\n",
      "50%                     1.500000                            149918.500000\n",
      "75%                     2.750000                            277269.250000\n",
      "max                     4.000000                          16446729.000000\n",
      "       indel_size  number_of_indels_by_size\n",
      "count   20.000000                 20.000000\n",
      "mean     0.000000               9643.150000\n",
      "std      6.366028              30524.346492\n",
      "min    -10.000000                  2.000000\n",
      "25%     -5.250000                  7.500000\n",
      "50%      0.000000                119.500000\n",
      "75%      5.250000               1276.250000\n",
      "max     10.000000             134615.000000\n"
     ]
    }
   ],
   "source": [
    "%%bash\n",
    "python /Users/pvmarkov/dengue/scripts/pilotdata_mergeddatakass_seqqualON30_alignqualON_pairsOFF.py&\n",
    "python /Users/pvmarkov/dengue/scripts/pilotdata_nonmerged_two_way_data_seqqualON30_alignqualON_pairsOFF.py&"
   ]
  },
  {
   "cell_type": "markdown",
   "metadata": {},
   "source": [
    "### Same analysis as above with the difference that I have created a loop to print reads that feature zero blocks so that we can inspect them.\n",
    "Next time could run only the part of the code that produces these reads, which takes much less time."
   ]
  },
  {
   "cell_type": "code",
   "execution_count": null,
   "metadata": {
    "collapsed": false
   },
   "outputs": [],
   "source": [
    "%%bash\n",
    "python /Users/pvmarkov/dengue/scripts/pilotdata_mergedreads_seqqualON30_alignqualON_pairsOFF_check_empty_reads.py&\n",
    "python /Users/pvmarkov/dengue/scripts/pilotdata_nonmerged_read_pairs_seqqualON30_alignqualON_pairsOFF_check_empty_reads.py&"
   ]
  },
  {
   "cell_type": "code",
   "execution_count": 1,
   "metadata": {
    "collapsed": false
   },
   "outputs": [
    {
     "name": "stdout",
     "output_type": "stream",
     "text": [
      "                  As             Cs             Gs     Ns             Ts  \\\n",
      "count   10716.000000   10716.000000   10716.000000  10716   10716.000000   \n",
      "mean    41635.363195   26359.926745   31996.367675      0   26321.833053   \n",
      "std     61354.369366   53186.957540   56488.962434      0   52664.259974   \n",
      "min         0.000000       0.000000       0.000000      0       0.000000   \n",
      "25%        12.000000      12.000000       5.000000      0       9.000000   \n",
      "50%        35.000000      23.000000      18.000000      0      17.000000   \n",
      "75%    111972.750000      82.000000   57421.000000      0      44.000000   \n",
      "max    205680.000000  207135.000000  206932.000000      0  206017.000000   \n",
      "\n",
      "            coverage  expected_number_of_errors  majorbase_ratio  \\\n",
      "count   10716.000000               10716.000000     10716.000000   \n",
      "mean   126313.491041                   7.987927         0.998958   \n",
      "std     27683.870050                   1.750668         0.019937   \n",
      "min         1.000000                   0.000000         0.000000   \n",
      "25%    113255.000000                   7.162771         0.999382   \n",
      "50%    127322.000000                   8.050657         0.999585   \n",
      "75%    140749.250000                   8.906181         0.999709   \n",
      "max    207224.000000                  13.104732         1.000000   \n",
      "\n",
      "          majorbases  number_of_indels_by_position      position  \\\n",
      "count   10716.000000                  10716.000000  10716.000000   \n",
      "mean   126237.345651                     16.236376   5357.500000   \n",
      "std     27671.493205                    347.891006   3093.587077   \n",
      "min         0.000000                      0.000000      0.000000   \n",
      "25%    113202.000000                      0.000000   2678.750000   \n",
      "50%    127273.500000                      1.000000   5357.500000   \n",
      "75%    140704.000000                      3.000000   8036.250000   \n",
      "max    207135.000000                  17784.000000  10715.000000   \n",
      "\n",
      "       probability_of_seq_error    secondbase  secondbase_ratio  \n",
      "count              10716.000000  10716.000000      10716.000000  \n",
      "mean                   0.000063     47.735162          0.000439  \n",
      "std                    0.000001    104.947089          0.004927  \n",
      "min                    0.000000      0.000000          0.000000  \n",
      "25%                    0.000063     19.000000          0.000151  \n",
      "50%                    0.000063     29.000000          0.000230  \n",
      "75%                    0.000063     47.000000          0.000367  \n",
      "max                    0.000064   6710.000000          0.500000  \n",
      "       number_of_indels_per_read  number_of_reads_with_given_indel_number\n",
      "count                  12.000000                                12.000000\n",
      "mean                    5.500000                            704315.500000\n",
      "std                     3.605551                           2380302.679219\n",
      "min                     0.000000                                 2.000000\n",
      "25%                     2.750000                                34.250000\n",
      "50%                     5.500000                               392.000000\n",
      "75%                     8.250000                              3778.250000\n",
      "max                    11.000000                           8261041.000000\n",
      "       indel_size  number_of_indels_by_size\n",
      "count   27.000000                 27.000000\n",
      "mean    -0.777778               6444.037037\n",
      "std      8.789563              24137.539962\n",
      "min    -16.000000                  1.000000\n",
      "25%     -7.500000                  5.000000\n",
      "50%     -1.000000                 36.000000\n",
      "75%      6.500000                445.500000\n",
      "max     13.000000             123263.000000\n"
     ]
    }
   ],
   "source": [
    "%%bash\n",
    "python /Users/pvmarkov/dengue/scripts/pilotdata_mergedreads_seqqualON30_alignqualON_pairsOFF__with_mutation_freqs.py&"
   ]
  },
  {
   "cell_type": "markdown",
   "metadata": {},
   "source": [
    "### The cell above and below get the normal data frame, but also produces a file with mutation frequencies for the investigation of C -->U putative increased mutation rate."
   ]
  },
  {
   "cell_type": "code",
   "execution_count": 2,
   "metadata": {
    "collapsed": true
   },
   "outputs": [],
   "source": [
    "%%bash\n",
    "python /Users/pvmarkov/dengue/scripts/pilotdata_mergedreads_seqqualON30_alignqualON_pairsOFF_with_adjusted_mutation_freqs.py"
   ]
  },
  {
   "cell_type": "code",
   "execution_count": 3,
   "metadata": {
    "collapsed": true
   },
   "outputs": [],
   "source": [
    "%%bash\n",
    "python /Users/pvmarkov/dengue/scripts/pilotdata_mergedreads_seqqualON60_alignqualON_pairsOFF.py"
   ]
  },
  {
   "cell_type": "markdown",
   "metadata": {},
   "source": [
    "### The run below produces a dataframe (.csv file) of dN and dS values by codon for a complete genome DENV4 dataset from Genbank."
   ]
  },
  {
   "cell_type": "code",
   "execution_count": 4,
   "metadata": {
    "collapsed": false
   },
   "outputs": [
    {
     "name": "stdout",
     "output_type": "stream",
     "text": [
      "3425\n",
      "3425\n",
      "3425\n",
      "3425\n",
      "3425\n"
     ]
    }
   ],
   "source": [
    "%%bash\n",
    "python /Users/pvmarkov/dengue/scripts/getting_sitewise_ratesof_evo.py\n"
   ]
  },
  {
   "cell_type": "markdown",
   "metadata": {},
   "source": [
    "### The run below produces a dataframe (.csv file) of dN and dS values by codon for a complete genome DENV4 dataset from Genbank.\n",
    "### But uses a function in the functions file instead of a separate script."
   ]
  },
  {
   "cell_type": "code",
   "execution_count": 9,
   "metadata": {
    "collapsed": false
   },
   "outputs": [
    {
     "name": "stdout",
     "output_type": "stream",
     "text": [
      "3425\n",
      "3425\n",
      "3425\n",
      "3425\n",
      "3425\n"
     ]
    }
   ],
   "source": [
    "%%bash\n",
    "python /Users/pvmarkov/dengue/scripts/dn_ds_per_codon.py"
   ]
  },
  {
   "cell_type": "markdown",
   "metadata": {},
   "source": [
    "### The run below produces a dataframe (.csv file) of dN and dS values by codon for a complete genome DENV2 dataset from Genbank.\n",
    "### Same as above but - we now use DENV2, not DENV4 as before."
   ]
  },
  {
   "cell_type": "code",
   "execution_count": 11,
   "metadata": {
    "collapsed": false
   },
   "outputs": [
    {
     "name": "stdout",
     "output_type": "stream",
     "text": [
      "3423\n",
      "3423\n",
      "3423\n",
      "3423\n",
      "3423\n",
      "3423\n",
      "3423\n",
      "3423\n"
     ]
    }
   ],
   "source": [
    "%%bash\n",
    "python /Users/pvmarkov/dengue/scripts/dn_ds_per_codon_DENV2.py"
   ]
  },
  {
   "cell_type": "markdown",
   "metadata": {},
   "source": [
    "### Run below produces a dataframe (.csv file) of piN and piS values by codon using the .bam file from our pilot reads."
   ]
  },
  {
   "cell_type": "code",
   "execution_count": 12,
   "metadata": {
    "collapsed": false
   },
   "outputs": [
    {
     "name": "stdout",
     "output_type": "stream",
     "text": [
      "The annotations and their positions are: \n",
      " [5UTR: 0 to 95, \"Capsid\": 96 to 437, \"SP\\prM\": 396 to 437, \"prM\": 438 to 935, \"M\\(mature\\form)\": 711 to 935, E: 936 to 2420, \"NS1\": 2421 to 3476, \"NS2A\": 3477 to 4130, \"NS2B\": 4131 to 4520, \"NS3\": 4521 to 6374, \"NS4A\": 6375 to 6824, \"NS4B\": 6825 to 7568, \"NS5\": 7569 to 10271, 3UTR: 10272 to 10722]\n"
     ]
    }
   ],
   "source": [
    "%%bash\n",
    "python /Users/pvmarkov/dengue/scripts/computepNpS.py"
   ]
  },
  {
   "cell_type": "markdown",
   "metadata": {},
   "source": [
    "### Run below produces a dataframe (.csv file) of piN and piS values along with \n",
    "- nucleotide positions\n",
    "- codon position\n",
    "- possible number of piN for the codon\n",
    "- possible number of piS for the codon\n",
    "- Coverage\n",
    "\n",
    "### by codon using the .bam file from our pilot reads."
   ]
  },
  {
   "cell_type": "code",
   "execution_count": 1,
   "metadata": {
    "collapsed": false
   },
   "outputs": [
    {
     "name": "stdout",
     "output_type": "stream",
     "text": [
      "The annotations and their positions are: \n",
      " [5UTR: 0 to 95, \"Capsid\": 96 to 437, \"SP\\prM\": 396 to 437, \"prM\": 438 to 935, \"M\\(mature\\form)\": 711 to 935, E: 936 to 2420, \"NS1\": 2421 to 3476, \"NS2A\": 3477 to 4130, \"NS2B\": 4131 to 4520, \"NS3\": 4521 to 6374, \"NS4A\": 6375 to 6824, \"NS4B\": 6825 to 7568, \"NS5\": 7569 to 10271, 3UTR: 10272 to 10722]\n"
     ]
    }
   ],
   "source": [
    "%%bash\n",
    "python /Users/pvmarkov/dengue/scripts/compute_pNpS_weights_positions.py"
   ]
  },
  {
   "cell_type": "code",
   "execution_count": null,
   "metadata": {
    "collapsed": true
   },
   "outputs": [],
   "source": []
  }
 ],
 "metadata": {
  "kernelspec": {
   "display_name": "Python 3",
   "language": "python",
   "name": "python3"
  },
  "language_info": {
   "codemirror_mode": {
    "name": "ipython",
    "version": 3
   },
   "file_extension": ".py",
   "mimetype": "text/x-python",
   "name": "python",
   "nbconvert_exporter": "python",
   "pygments_lexer": "ipython3",
   "version": "3.5.1"
  }
 },
 "nbformat": 4,
 "nbformat_minor": 0
}
