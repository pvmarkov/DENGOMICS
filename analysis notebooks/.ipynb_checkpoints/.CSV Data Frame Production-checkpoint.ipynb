{
 "cells": [
  {
   "cell_type": "code",
   "execution_count": 8,
   "metadata": {
    "collapsed": false
   },
   "outputs": [
    {
     "name": "stdout",
     "output_type": "stream",
     "text": [
      "                 As            Cs            Gs     Ns            Ts  \\\n",
      "count  10705.000000  10705.000000  10705.000000  10705  10705.000000   \n",
      "mean      66.829239     42.120037     52.204297      0     43.142644   \n",
      "std       96.572196     83.340503     89.485509      0     83.197528   \n",
      "min        0.000000      0.000000      0.000000      0      0.000000   \n",
      "25%        1.000000      0.000000      1.000000      0      0.000000   \n",
      "50%        2.000000      1.000000      2.000000      0      2.000000   \n",
      "75%      174.000000      3.000000     80.000000      0      5.000000   \n",
      "max      329.000000    330.000000    336.000000      0    336.000000   \n",
      "\n",
      "           coverage  expected_number_of_errors  majorbase_ratio    majorbases  \\\n",
      "count  10705.000000               10705.000000     10705.000000  10705.000000   \n",
      "mean     204.296217                   4.526104         0.977628    200.083699   \n",
      "std       44.815564                   2.195166         0.027065     44.463807   \n",
      "min        1.000000                   0.163501         0.333333      1.000000   \n",
      "25%      180.000000                   2.893309         0.970833    176.000000   \n",
      "50%      205.000000                   4.141513         0.982301    200.000000   \n",
      "75%      229.000000                   5.901300         0.990521    226.000000   \n",
      "max      338.000000                  11.800066         1.000000    336.000000   \n",
      "\n",
      "       number_of_indels_by_position     position  probability_of_seq_error  \\\n",
      "count                  10705.000000  10705.00000              10705.000000   \n",
      "mean                       0.488650   5358.00000                  0.023148   \n",
      "std                        0.964179   3090.41165                  0.025689   \n",
      "min                        0.000000      6.00000                  0.005869   \n",
      "25%                        0.000000   2682.00000                  0.014436   \n",
      "50%                        0.000000   5358.00000                  0.020051   \n",
      "75%                        1.000000   8034.00000                  0.028408   \n",
      "max                       23.000000  10710.00000                  1.000000   \n",
      "\n",
      "         secondbase  secondbase_ratio  \n",
      "count  10705.000000      10705.000000  \n",
      "mean       2.711256          0.014662  \n",
      "std        2.101820          0.019744  \n",
      "min        0.000000          0.000000  \n",
      "25%        1.000000          0.005814  \n",
      "50%        2.000000          0.011173  \n",
      "75%        4.000000          0.018265  \n",
      "max       32.000000          0.500000  \n"
     ]
    },
    {
     "name": "stderr",
     "output_type": "stream",
     "text": [
      "Warning: The index file is older than the data file: /Users/pvmarkov/dengue/data/reads_subset.bam.bai\n"
     ]
    }
   ],
   "source": [
    "%%bash\n",
    "#python /Users/pvmarkov/dengue/scripts/doing_merge_kass_cover_majorb_seqqual60ON_alignqualOFF_pairsOFF.py&\n",
    "#python /Users/pvmarkov/dengue/scripts/doing_merge_kass_cover_majorb_seqqualOFF_alignqualOFF_pairsOFF.py&\n",
    "#python /Users/pvmarkov/dengue/scripts/doing_merge_kass_cover_majorb_seqqualOFF_alignqualON_pairsOFF.py\n",
    "python /Users/pvmarkov/dengue/scripts/indel_analysis_testrun_with_subset_dataset_1.py"
   ]
  },
  {
   "cell_type": "code",
   "execution_count": 9,
   "metadata": {
    "collapsed": false
   },
   "outputs": [
    {
     "name": "stdout",
     "output_type": "stream",
     "text": [
      "                  As             Cs             Gs     Ns             Ts  \\\n",
      "count   10716.000000   10716.000000   10716.000000  10716   10716.000000   \n",
      "mean    33704.654629   20991.675905   24827.219578      0   20748.943169   \n",
      "std     49933.061468   42613.816030   44067.413878      0   41805.422415   \n",
      "min         0.000000       0.000000       0.000000      0       0.000000   \n",
      "25%         4.000000       3.000000       2.000000      0       5.000000   \n",
      "50%        11.000000      11.000000      11.000000      0      10.000000   \n",
      "75%     88760.000000      50.000000   35842.500000      0      31.000000   \n",
      "max    173422.000000  169396.000000  169790.000000      0  167646.000000   \n",
      "\n",
      "            coverage  expected_number_of_errors  majorbase_ratio  \\\n",
      "count   10716.000000               10716.000000     10716.000000   \n",
      "mean   100272.493934                   6.332549         0.998909   \n",
      "std     23993.972401                   1.515047         0.025570   \n",
      "min         1.000000                   0.000000         0.000000   \n",
      "25%     87738.000000                   5.542565         0.999611   \n",
      "50%    100858.500000                   6.368833         0.999738   \n",
      "75%    112511.000000                   7.104850         0.999814   \n",
      "max    173459.000000                  10.954561         1.000000   \n",
      "\n",
      "          majorbases  number_of_indels_by_position      position  \\\n",
      "count   10716.000000                  10716.000000  10716.000000   \n",
      "mean   100231.239362                     12.009705   5357.500000   \n",
      "std     23988.343852                    256.593120   3093.587077   \n",
      "min         0.000000                      0.000000      0.000000   \n",
      "25%     87696.750000                      0.000000   2678.750000   \n",
      "50%    100807.500000                      1.000000   5357.500000   \n",
      "75%    112457.000000                      2.000000   8036.250000   \n",
      "max    173422.000000                  14831.000000  10715.000000   \n",
      "\n",
      "       probability_of_seq_error    secondbase  secondbase_ratio  \n",
      "count              10716.000000  10716.000000      10716.000000  \n",
      "mean                   0.000063     28.749813          0.000310  \n",
      "std                    0.000002     77.695104          0.001123  \n",
      "min                    0.000000      0.000000          0.000000  \n",
      "25%                    0.000063     11.000000          0.000111  \n",
      "50%                    0.000063     17.000000          0.000169  \n",
      "75%                    0.000063     27.000000          0.000267  \n",
      "max                    0.000063   5788.000000          0.059533  \n"
     ]
    }
   ],
   "source": [
    "%%bash\n",
    "#python /Users/pvmarkov/dengue/scripts/doing_merge_kass_cover_majorb_seqqualOFF_alignqualON_pairsOFF.py&\n",
    "python /Users/pvmarkov/dengue/scripts/indels_by_position_with_mergeddatakass_seqqualON_alignqualON_pairsOFF.py"
   ]
  },
  {
   "cell_type": "code",
   "execution_count": null,
   "metadata": {
    "collapsed": true
   },
   "outputs": [],
   "source": []
  },
  {
   "cell_type": "code",
   "execution_count": 13,
   "metadata": {
    "collapsed": false
   },
   "outputs": [
    {
     "name": "stdout",
     "output_type": "stream",
     "text": [
      "          As     Cs     Gs     Ns     Ts  coverage  expected_number_of_errors  \\\n",
      "count  10718  10718  10718  10718  10718     10718                      10718   \n",
      "mean       0      0      0      0      0         1                          0   \n",
      "std        0      0      0      0      0         0                          0   \n",
      "min        0      0      0      0      0         1                          0   \n",
      "25%        0      0      0      0      0         1                          0   \n",
      "50%        0      0      0      0      0         1                          0   \n",
      "75%        0      0      0      0      0         1                          0   \n",
      "max        0      0      0      0      0         1                          0   \n",
      "\n",
      "       majorbase_ratio  majorbases  number_of_indels_by_position  \\\n",
      "count            10718       10718                         10718   \n",
      "mean                 0           0                             0   \n",
      "std                  0           0                             0   \n",
      "min                  0           0                             0   \n",
      "25%                  0           0                             0   \n",
      "50%                  0           0                             0   \n",
      "75%                  0           0                             0   \n",
      "max                  0           0                             0   \n",
      "\n",
      "           position  probability_of_seq_error  secondbase  secondbase_ratio  \n",
      "count  10718.000000                     10718       10718             10718  \n",
      "mean    5358.500000                         0           0                 0  \n",
      "std     3094.164427                         0           0                 0  \n",
      "min        0.000000                         0           0                 0  \n",
      "25%     2679.250000                         0           0                 0  \n",
      "50%     5358.500000                         0           0                 0  \n",
      "75%     8037.750000                         0           0                 0  \n",
      "max    10717.000000                         0           0                 0  \n"
     ]
    }
   ],
   "source": [
    "%%bash\n",
    "python /Users/pvmarkov/dengue/scripts/indels_by_position_with_nonmerged_two_way_data_seqqualON_alignqualON_pairsOFF.py"
   ]
  },
  {
   "cell_type": "code",
   "execution_count": 15,
   "metadata": {
    "collapsed": false
   },
   "outputs": [
    {
     "name": "stdout",
     "output_type": "stream",
     "text": [
      "                  As             Cs             Gs            Ns  \\\n",
      "count   10718.000000   10718.000000   10718.000000  10718.000000   \n",
      "mean    51289.940940   32373.200317   39295.475182      0.000187   \n",
      "std     75382.246095   65000.408954   69408.922030      0.013660   \n",
      "min         0.000000       0.000000       0.000000      0.000000   \n",
      "25%       195.000000     121.000000      75.000000      0.000000   \n",
      "50%       534.000000     343.000000     135.000000      0.000000   \n",
      "75%    134751.250000     755.000000   68485.750000      0.000000   \n",
      "max    272437.000000  273597.000000  269730.000000      1.000000   \n",
      "\n",
      "                  Ts       coverage  expected_number_of_errors  \\\n",
      "count   10718.000000   10718.000000               10718.000000   \n",
      "mean    32347.834484  155306.451110                 280.118646   \n",
      "std     64597.815961   35919.825944                 130.630345   \n",
      "min         0.000000       1.000000                   0.005012   \n",
      "25%       118.000000  137033.500000                 202.334037   \n",
      "50%       177.000000  155842.000000                 252.108453   \n",
      "75%       412.000000  174384.500000                 321.356023   \n",
      "max    270242.000000  274586.000000                1077.674107   \n",
      "\n",
      "       majorbase_ratio     majorbases  number_of_indels_by_position  \\\n",
      "count     10718.000000   10718.000000                  10718.000000   \n",
      "mean          0.994532  154543.638365                     37.976955   \n",
      "std           0.012359   35794.770753                    412.469685   \n",
      "min           0.500000       1.000000                      0.000000   \n",
      "25%           0.994061  136361.500000                      4.000000   \n",
      "50%           0.995650  155083.500000                     10.000000   \n",
      "75%           0.996966  173568.750000                     27.000000   \n",
      "max           1.000000  273597.000000                  21887.000000   \n",
      "\n",
      "           position  probability_of_seq_error    secondbase  secondbase_ratio  \n",
      "count  10718.000000              10718.000000  10718.000000      10718.000000  \n",
      "mean    5358.500000                  0.001917    461.351092          0.003399  \n",
      "std     3094.164427                  0.002192    527.300692          0.010146  \n",
      "min        0.000000                  0.000527      0.000000          0.000000  \n",
      "25%     2679.250000                  0.001363    220.000000          0.001496  \n",
      "50%     5358.500000                  0.001618    399.000000          0.002635  \n",
      "75%     8037.750000                  0.002010    588.750000          0.003801  \n",
      "max    10717.000000                  0.133272  28005.000000          0.500000  \n"
     ]
    }
   ],
   "source": [
    "%%bash\n",
    "python /Users/pvmarkov/dengue/scripts/indels_by_position_with_nonmerged_two_way_data_2run_seqqualOFF_alignqualOFF_pairsOFF.py"
   ]
  },
  {
   "cell_type": "code",
   "execution_count": null,
   "metadata": {
    "collapsed": true
   },
   "outputs": [],
   "source": []
  },
  {
   "cell_type": "code",
   "execution_count": 1,
   "metadata": {
    "collapsed": false
   },
   "outputs": [
    {
     "name": "stdout",
     "output_type": "stream",
     "text": [
      "                 As            Cs            Gs     Ns            Ts  \\\n",
      "count  10705.000000  10705.000000  10705.000000  10705  10705.000000   \n",
      "mean      66.829239     42.120037     52.204297      0     43.142644   \n",
      "std       96.572196     83.340503     89.485509      0     83.197528   \n",
      "min        0.000000      0.000000      0.000000      0      0.000000   \n",
      "25%        1.000000      0.000000      1.000000      0      0.000000   \n",
      "50%        2.000000      1.000000      2.000000      0      2.000000   \n",
      "75%      174.000000      3.000000     80.000000      0      5.000000   \n",
      "max      329.000000    330.000000    336.000000      0    336.000000   \n",
      "\n",
      "           coverage  expected_number_of_errors  majorbase_ratio    majorbases  \\\n",
      "count  10705.000000               10705.000000     10705.000000  10705.000000   \n",
      "mean     204.296217                   4.526104         0.977628    200.083699   \n",
      "std       44.815564                   2.195166         0.027065     44.463807   \n",
      "min        1.000000                   0.163501         0.333333      1.000000   \n",
      "25%      180.000000                   2.893309         0.970833    176.000000   \n",
      "50%      205.000000                   4.141513         0.982301    200.000000   \n",
      "75%      229.000000                   5.901300         0.990521    226.000000   \n",
      "max      338.000000                  11.800066         1.000000    336.000000   \n",
      "\n",
      "       number_of_indels_by_position     position  probability_of_seq_error  \\\n",
      "count                  10705.000000  10705.00000              10705.000000   \n",
      "mean                       0.488650   5358.00000                  0.023148   \n",
      "std                        0.964179   3090.41165                  0.025689   \n",
      "min                        0.000000      6.00000                  0.005869   \n",
      "25%                        0.000000   2682.00000                  0.014436   \n",
      "50%                        0.000000   5358.00000                  0.020051   \n",
      "75%                        1.000000   8034.00000                  0.028408   \n",
      "max                       23.000000  10710.00000                  1.000000   \n",
      "\n",
      "         secondbase  secondbase_ratio  \n",
      "count  10705.000000      10705.000000  \n",
      "mean       2.711256          0.014662  \n",
      "std        2.101820          0.019744  \n",
      "min        0.000000          0.000000  \n",
      "25%        1.000000          0.005814  \n",
      "50%        2.000000          0.011173  \n",
      "75%        4.000000          0.018265  \n",
      "max       32.000000          0.500000  \n",
      "       number_of_indels_per_read  number_of_reads_with_given_indel_number\n",
      "count                   9.000000                                 9.000000\n",
      "mean                    4.000000                              1891.111111\n",
      "std                     2.738613                              3372.771281\n",
      "min                     0.000000                                 2.000000\n",
      "25%                     2.000000                                59.000000\n",
      "50%                     4.000000                               503.000000\n",
      "75%                     6.000000                               949.000000\n",
      "max                     8.000000                             10092.000000\n",
      "       indel_size  number_of_indels_by_size\n",
      "count   32.000000                 32.000000\n",
      "mean     9.437500                163.468750\n",
      "std     10.140743                295.844552\n",
      "min     -8.000000                  1.000000\n",
      "25%      1.750000                  8.250000\n",
      "50%      9.500000                 28.500000\n",
      "75%     17.250000                167.500000\n",
      "max     27.000000               1395.000000\n"
     ]
    },
    {
     "name": "stderr",
     "output_type": "stream",
     "text": [
      "Warning: The index file is older than the data file: /Users/pvmarkov/dengue/data/reads_subset.bam.bai\n"
     ]
    }
   ],
   "source": [
    "%%bash\n",
    "#python /Users/pvmarkov/dengue/scripts/doing_merge_kass_cover_majorb_seqqualOFF_alignqualON_pairsOFF.py&\n",
    "python /Users/pvmarkov/dengue/scripts/indel_analysis_testrun_with_subset_dataset_2.py"
   ]
  },
  {
   "cell_type": "code",
   "execution_count": 2,
   "metadata": {
    "collapsed": false
   },
   "outputs": [
    {
     "name": "stdout",
     "output_type": "stream",
     "text": [
      "                  As             Cs             Gs     Ns             Ts  \\\n",
      "count   10716.000000   10716.000000   10716.000000  10716   10716.000000   \n",
      "mean    33704.654629   20991.675905   24827.219578      0   20748.943169   \n",
      "std     49933.061468   42613.816030   44067.413878      0   41805.422415   \n",
      "min         0.000000       0.000000       0.000000      0       0.000000   \n",
      "25%         4.000000       3.000000       2.000000      0       5.000000   \n",
      "50%        11.000000      11.000000      11.000000      0      10.000000   \n",
      "75%     88760.000000      50.000000   35842.500000      0      31.000000   \n",
      "max    173422.000000  169396.000000  169790.000000      0  167646.000000   \n",
      "\n",
      "            coverage  expected_number_of_errors  majorbase_ratio  \\\n",
      "count   10716.000000               10716.000000     10716.000000   \n",
      "mean   100272.493934                   6.332549         0.998909   \n",
      "std     23993.972401                   1.515047         0.025570   \n",
      "min         1.000000                   0.000000         0.000000   \n",
      "25%     87738.000000                   5.542565         0.999611   \n",
      "50%    100858.500000                   6.368833         0.999738   \n",
      "75%    112511.000000                   7.104850         0.999814   \n",
      "max    173459.000000                  10.954561         1.000000   \n",
      "\n",
      "          majorbases  number_of_indels_by_position      position  \\\n",
      "count   10716.000000                  10716.000000  10716.000000   \n",
      "mean   100231.239362                     12.009705   5357.500000   \n",
      "std     23988.343852                    256.593120   3093.587077   \n",
      "min         0.000000                      0.000000      0.000000   \n",
      "25%     87696.750000                      0.000000   2678.750000   \n",
      "50%    100807.500000                      1.000000   5357.500000   \n",
      "75%    112457.000000                      2.000000   8036.250000   \n",
      "max    173422.000000                  14831.000000  10715.000000   \n",
      "\n",
      "       probability_of_seq_error    secondbase  secondbase_ratio  \n",
      "count              10716.000000  10716.000000      10716.000000  \n",
      "mean                   0.000063     28.749813          0.000310  \n",
      "std                    0.000002     77.695104          0.001123  \n",
      "min                    0.000000      0.000000          0.000000  \n",
      "25%                    0.000063     11.000000          0.000111  \n",
      "50%                    0.000063     17.000000          0.000169  \n",
      "75%                    0.000063     27.000000          0.000267  \n",
      "max                    0.000063   5788.000000          0.059533  \n",
      "       number_of_indels_per_read  number_of_reads_with_given_indel_number\n",
      "count                  12.000000                                12.000000\n",
      "mean                    6.500000                            704315.500000\n",
      "std                     3.605551                           2380302.679219\n",
      "min                     1.000000                                 2.000000\n",
      "25%                     3.750000                                34.250000\n",
      "50%                     6.500000                               392.000000\n",
      "75%                     9.250000                              3778.250000\n",
      "max                    12.000000                           8261041.000000\n",
      "       indel_size  number_of_indels_by_size\n",
      "count   26.000000                 26.000000\n",
      "mean    -1.269231               4949.846154\n",
      "std      8.576982              18061.059552\n",
      "min    -16.000000                  1.000000\n",
      "25%     -7.750000                  1.250000\n",
      "50%     -1.500000                 13.500000\n",
      "75%      5.750000                260.750000\n",
      "max     13.000000              90365.000000\n"
     ]
    }
   ],
   "source": [
    "%%bash\n",
    "python /Users/pvmarkov/dengue/scripts/indels_investigation_mergeddatakass_seqqualON_alignqualON_pairsOFF.py"
   ]
  },
  {
   "cell_type": "code",
   "execution_count": 6,
   "metadata": {
    "collapsed": false
   },
   "outputs": [
    {
     "name": "stdout",
     "output_type": "stream",
     "text": [
      "                  As             Cs             Gs     Ns             Ts  \\\n",
      "count   10718.000000   10718.000000   10718.000000  10718   10718.000000   \n",
      "mean    48656.817317   30543.353984   36810.596753      0   30317.385613   \n",
      "std     71990.262193   61877.002357   65226.903833      0   60796.799911   \n",
      "min         0.000000       0.000000       0.000000      0       0.000000   \n",
      "25%        40.000000      27.000000      24.000000      0      39.000000   \n",
      "50%       100.000000      51.000000      57.000000      0      77.500000   \n",
      "75%    127773.000000     154.000000   63404.750000      0     279.000000   \n",
      "max    258904.000000  263405.000000  258320.000000      0  255644.000000   \n",
      "\n",
      "            coverage  expected_number_of_errors  majorbase_ratio  \\\n",
      "count   10718.000000               10718.000000     10718.000000   \n",
      "mean   146328.153760                 238.192257         0.997857   \n",
      "std     34520.156643                 109.908361         0.015161   \n",
      "min         1.000000                   0.000000         0.000000   \n",
      "25%    128278.500000                 171.670956         0.998103   \n",
      "50%    146440.500000                 216.097062         0.998814   \n",
      "75%    164374.750000                 276.891373         0.999241   \n",
      "max    263597.000000                 994.818760         1.000000   \n",
      "\n",
      "          majorbases  number_of_indels_by_position      position  \\\n",
      "count   10718.000000                  10718.000000  10718.000000   \n",
      "mean   146101.806307                     34.115693   5358.500000   \n",
      "std     34488.292459                    379.598356   3094.164427   \n",
      "min         0.000000                      0.000000      0.000000   \n",
      "25%    128109.250000                      3.000000   2679.250000   \n",
      "50%    146245.000000                      9.000000   5358.500000   \n",
      "75%    164148.250000                     24.000000   8037.750000   \n",
      "max    263405.000000                  20964.000000  10717.000000   \n",
      "\n",
      "       probability_of_seq_error    secondbase  secondbase_ratio  \n",
      "count              10718.000000  10718.000000      10718.000000  \n",
      "mean                   0.001735    136.795857          0.001348  \n",
      "std                    0.002185    170.824403          0.009786  \n",
      "min                    0.000000      0.000000          0.000000  \n",
      "25%                    0.001234     54.000000          0.000382  \n",
      "50%                    0.001473     91.000000          0.000635  \n",
      "75%                    0.001840    160.000000          0.001130  \n",
      "max                    0.158924   7891.000000          0.444444  \n",
      "       number_of_indels_per_read  number_of_reads_with_given_indel_number\n",
      "count                   6.000000                                 6.000000\n",
      "mean                    2.500000                           2840065.000000\n",
      "std                     1.870829                           6667029.251372\n",
      "min                     0.000000                               325.000000\n",
      "25%                     1.250000                             17814.250000\n",
      "50%                     2.500000                            149918.500000\n",
      "75%                     3.750000                            277269.250000\n",
      "max                     5.000000                          16446729.000000\n",
      "       indel_size  number_of_indels_by_size\n",
      "count   35.000000                 35.000000\n",
      "mean     0.514286              10447.200000\n",
      "std     10.689113              30866.305399\n",
      "min    -17.000000                  2.000000\n",
      "25%     -8.500000                 14.500000\n",
      "50%      1.000000                597.000000\n",
      "75%      9.500000               6935.500000\n",
      "max     18.000000             177234.000000\n"
     ]
    }
   ],
   "source": [
    "%%bash\n",
    "python /Users/pvmarkov/dengue/scripts/indels_investigation_nonmerged_two_way_data_seqqualON30_alignqualOFF_pairsOFF.py"
   ]
  },
  {
   "cell_type": "code",
   "execution_count": 2,
   "metadata": {
    "collapsed": false
   },
   "outputs": [
    {
     "name": "stdout",
     "output_type": "stream",
     "text": [
      "                  As             Cs             Gs     Ns             Ts  \\\n",
      "count   10718.000000   10718.000000   10718.000000  10718   10718.000000   \n",
      "mean    48656.817317   30543.353984   36810.596753      0   30317.385613   \n",
      "std     71990.262193   61877.002357   65226.903833      0   60796.799911   \n",
      "min         0.000000       0.000000       0.000000      0       0.000000   \n",
      "25%        40.000000      27.000000      24.000000      0      39.000000   \n",
      "50%       100.000000      51.000000      57.000000      0      77.500000   \n",
      "75%    127773.000000     154.000000   63404.750000      0     279.000000   \n",
      "max    258904.000000  263405.000000  258320.000000      0  255644.000000   \n",
      "\n",
      "            coverage  expected_number_of_errors  majorbase_ratio  \\\n",
      "count   10718.000000               10718.000000     10718.000000   \n",
      "mean   146328.153760                 238.192257         0.997857   \n",
      "std     34520.156643                 109.908361         0.015161   \n",
      "min         1.000000                   0.000000         0.000000   \n",
      "25%    128278.500000                 171.670956         0.998103   \n",
      "50%    146440.500000                 216.097062         0.998814   \n",
      "75%    164374.750000                 276.891373         0.999241   \n",
      "max    263597.000000                 994.818760         1.000000   \n",
      "\n",
      "          majorbases  number_of_indels_by_position      position  \\\n",
      "count   10718.000000                  10718.000000  10718.000000   \n",
      "mean   146101.806307                     34.115693   5358.500000   \n",
      "std     34488.292459                    379.598356   3094.164427   \n",
      "min         0.000000                      0.000000      0.000000   \n",
      "25%    128109.250000                      3.000000   2679.250000   \n",
      "50%    146245.000000                      9.000000   5358.500000   \n",
      "75%    164148.250000                     24.000000   8037.750000   \n",
      "max    263405.000000                  20964.000000  10717.000000   \n",
      "\n",
      "       probability_of_seq_error    secondbase  secondbase_ratio  \n",
      "count              10718.000000  10718.000000      10718.000000  \n",
      "mean                   0.001735    136.795857          0.001348  \n",
      "std                    0.002185    170.824403          0.009786  \n",
      "min                    0.000000      0.000000          0.000000  \n",
      "25%                    0.001234     54.000000          0.000382  \n",
      "50%                    0.001473     91.000000          0.000635  \n",
      "75%                    0.001840    160.000000          0.001130  \n",
      "max                    0.158924   7891.000000          0.444444  \n",
      "       number_of_indels_per_read  number_of_reads_with_given_indel_number\n",
      "count                   6.000000                                 6.000000\n",
      "mean                    2.500000                           2840065.000000\n",
      "std                     1.870829                           6667029.251372\n",
      "min                     0.000000                               325.000000\n",
      "25%                     1.250000                             17814.250000\n",
      "50%                     2.500000                            149918.500000\n",
      "75%                     3.750000                            277269.250000\n",
      "max                     5.000000                          16446729.000000\n",
      "       indel_size  number_of_indels_by_size\n",
      "count   35.000000                 35.000000\n",
      "mean     0.514286              10447.200000\n",
      "std     10.689113              30866.305399\n",
      "min    -17.000000                  2.000000\n",
      "25%     -8.500000                 14.500000\n",
      "50%      1.000000                597.000000\n",
      "75%      9.500000               6935.500000\n",
      "max     18.000000             177234.000000\n"
     ]
    }
   ],
   "source": []
  },
  {
   "cell_type": "code",
   "execution_count": 6,
   "metadata": {
    "collapsed": false
   },
   "outputs": [],
   "source": [
    "%%bash\n",
    "#number of indels was not successfully calculated in previous larger analysis, so doing it here for the separate reads data...\n",
    "python /Users/pvmarkov/dengue/scripts/indels_investigation_nonmerged_two_way_data_seqqualOFF_alignqualOFF_pairsOFFjustINDELNUMBER.py\n",
    "#number of indels was not successfully calculated in previous larger analysis, so doing it here for teh merged dataset...\n",
    "python /Users/pvmarkov/dengue/scripts/indels_investigation_mergeddatakass_seqqualOFF_alignqualOFF_pairsOFFjustINDELNUMBER.py&"
   ]
  },
  {
   "cell_type": "markdown",
   "metadata": {
    "collapsed": true
   },
   "source": [
    "## Preparing Separate .csvs for Forward and Reverse Reads for Kassian (30/03/16)"
   ]
  },
  {
   "cell_type": "markdown",
   "metadata": {},
   "source": [
    "##### -Producing a .bam file from the forward read. Used the trimmed reads file with removed adaptor 6 and low quality sequences at the end."
   ]
  },
  {
   "cell_type": "code",
   "execution_count": 7,
   "metadata": {
    "collapsed": false
   },
   "outputs": [
    {
     "name": "stderr",
     "output_type": "stream",
     "text": [
      "Warning: skipping read 'MISEQ:354:000000000-AA89J:1:1101:16964:17333 1:N:0:' because length (1) <= # seed mismatches (0)\n",
      "Warning: skipping read 'MISEQ:354:000000000-AA89J:1:1101:16964:17333 1:N:0:' because it was < 2 characters long\n",
      "Warning: skipping read 'MISEQ:354:000000000-AA89J:1:1101:14652:24272 1:N:0:' because length (1) <= # seed mismatches (0)\n",
      "Warning: skipping read 'MISEQ:354:000000000-AA89J:1:1101:14652:24272 1:N:0:' because it was < 2 characters long\n",
      "Warning: skipping read 'MISEQ:354:000000000-AA89J:1:1101:8406:25980 1:N:0:' because length (1) <= # seed mismatches (0)\n",
      "Warning: skipping read 'MISEQ:354:000000000-AA89J:1:1101:8406:25980 1:N:0:' because it was < 2 characters long\n",
      "Warning: skipping read 'MISEQ:354:000000000-AA89J:1:1101:16904:27668 1:N:0:' because length (1) <= # seed mismatches (0)\n",
      "Warning: skipping read 'MISEQ:354:000000000-AA89J:1:1101:16904:27668 1:N:0:' because it was < 2 characters long\n",
      "Warning: skipping read 'MISEQ:354:000000000-AA89J:1:1102:7980:17780 1:N:0:' because length (1) <= # seed mismatches (0)\n",
      "Warning: skipping read 'MISEQ:354:000000000-AA89J:1:1102:7980:17780 1:N:0:' because it was < 2 characters long\n",
      "Warning: skipping read 'MISEQ:354:000000000-AA89J:1:1102:12809:19365 1:N:0:' because length (1) <= # seed mismatches (0)\n",
      "Warning: skipping read 'MISEQ:354:000000000-AA89J:1:1102:12809:19365 1:N:0:' because it was < 2 characters long\n",
      "Warning: skipping read 'MISEQ:354:000000000-AA89J:1:1102:7077:21094 1:N:0:' because length (1) <= # seed mismatches (0)\n",
      "Warning: skipping read 'MISEQ:354:000000000-AA89J:1:1102:7077:21094 1:N:0:' because it was < 2 characters long\n",
      "Warning: skipping read 'MISEQ:354:000000000-AA89J:1:1102:23127:22299 1:N:0:' because length (1) <= # seed mismatches (0)\n",
      "Warning: skipping read 'MISEQ:354:000000000-AA89J:1:1102:23127:22299 1:N:0:' because it was < 2 characters long\n",
      "Warning: skipping read 'MISEQ:354:000000000-AA89J:1:1103:19487:14545 1:N:0:' because length (1) <= # seed mismatches (0)\n",
      "Warning: skipping read 'MISEQ:354:000000000-AA89J:1:1103:19487:14545 1:N:0:' because it was < 2 characters long\n",
      "Warning: skipping read 'MISEQ:354:000000000-AA89J:1:1103:24744:20430 1:N:0:' because length (1) <= # seed mismatches (0)\n",
      "Warning: skipping read 'MISEQ:354:000000000-AA89J:1:1103:24744:20430 1:N:0:' because it was < 2 characters long\n",
      "Warning: skipping read 'MISEQ:354:000000000-AA89J:1:1103:8290:21375 1:N:0:' because length (1) <= # seed mismatches (0)\n",
      "Warning: skipping read 'MISEQ:354:000000000-AA89J:1:1103:8290:21375 1:N:0:' because it was < 2 characters long\n",
      "Warning: skipping read 'MISEQ:354:000000000-AA89J:1:1103:10852:27037 1:N:0:' because length (1) <= # seed mismatches (0)\n",
      "Warning: skipping read 'MISEQ:354:000000000-AA89J:1:1103:10852:27037 1:N:0:' because it was < 2 characters long\n",
      "Warning: skipping read 'MISEQ:354:000000000-AA89J:1:1104:15659:8433 1:N:0:' because length (1) <= # seed mismatches (0)\n",
      "Warning: skipping read 'MISEQ:354:000000000-AA89J:1:1104:15659:8433 1:N:0:' because it was < 2 characters long\n",
      "Warning: skipping read 'MISEQ:354:000000000-AA89J:1:1104:15338:11033 1:N:0:' because length (1) <= # seed mismatches (0)\n",
      "Warning: skipping read 'MISEQ:354:000000000-AA89J:1:1104:15338:11033 1:N:0:' because it was < 2 characters long\n",
      "Warning: skipping read 'MISEQ:354:000000000-AA89J:1:1104:18798:23076 1:N:0:' because length (1) <= # seed mismatches (0)\n",
      "Warning: skipping read 'MISEQ:354:000000000-AA89J:1:1104:18798:23076 1:N:0:' because it was < 2 characters long\n",
      "Warning: skipping read 'MISEQ:354:000000000-AA89J:1:1105:19711:14082 1:N:0:' because length (1) <= # seed mismatches (0)\n",
      "Warning: skipping read 'MISEQ:354:000000000-AA89J:1:1105:19711:14082 1:N:0:' because it was < 2 characters long\n",
      "Warning: skipping read 'MISEQ:354:000000000-AA89J:1:1108:24681:10812 1:N:0:' because length (1) <= # seed mismatches (0)\n",
      "Warning: skipping read 'MISEQ:354:000000000-AA89J:1:1108:24681:10812 1:N:0:' because it was < 2 characters long\n",
      "Warning: skipping read 'MISEQ:354:000000000-AA89J:1:1108:19401:12343 1:N:0:' because length (1) <= # seed mismatches (0)\n",
      "Warning: skipping read 'MISEQ:354:000000000-AA89J:1:1108:19401:12343 1:N:0:' because it was < 2 characters long\n",
      "Warning: skipping read 'MISEQ:354:000000000-AA89J:1:1109:11968:11743 1:N:0:' because length (1) <= # seed mismatches (0)\n",
      "Warning: skipping read 'MISEQ:354:000000000-AA89J:1:1109:11968:11743 1:N:0:' because it was < 2 characters long\n",
      "Warning: skipping read 'MISEQ:354:000000000-AA89J:1:1109:9642:18735 1:N:0:' because length (1) <= # seed mismatches (0)\n",
      "Warning: skipping read 'MISEQ:354:000000000-AA89J:1:1109:9642:18735 1:N:0:' because it was < 2 characters long\n",
      "Warning: skipping read 'MISEQ:354:000000000-AA89J:1:1110:18171:3239 1:N:0:' because length (1) <= # seed mismatches (0)\n",
      "Warning: skipping read 'MISEQ:354:000000000-AA89J:1:1110:18171:3239 1:N:0:' because it was < 2 characters long\n",
      "Warning: skipping read 'MISEQ:354:000000000-AA89J:1:1110:14072:8388 1:N:0:' because length (1) <= # seed mismatches (0)\n",
      "Warning: skipping read 'MISEQ:354:000000000-AA89J:1:1110:14072:8388 1:N:0:' because it was < 2 characters long\n",
      "Warning: skipping read 'MISEQ:354:000000000-AA89J:1:1110:3933:8956 1:N:0:' because length (1) <= # seed mismatches (0)\n",
      "Warning: skipping read 'MISEQ:354:000000000-AA89J:1:1110:3933:8956 1:N:0:' because it was < 2 characters long\n",
      "Warning: skipping read 'MISEQ:354:000000000-AA89J:1:1111:6140:6288 1:N:0:' because length (1) <= # seed mismatches (0)\n",
      "Warning: skipping read 'MISEQ:354:000000000-AA89J:1:1111:6140:6288 1:N:0:' because it was < 2 characters long\n",
      "Warning: skipping read 'MISEQ:354:000000000-AA89J:1:1112:16204:12878 1:N:0:' because length (1) <= # seed mismatches (0)\n",
      "Warning: skipping read 'MISEQ:354:000000000-AA89J:1:1112:16204:12878 1:N:0:' because it was < 2 characters long\n",
      "Warning: skipping read 'MISEQ:354:000000000-AA89J:1:1113:6554:13200 1:N:0:' because length (1) <= # seed mismatches (0)\n",
      "Warning: skipping read 'MISEQ:354:000000000-AA89J:1:1113:6554:13200 1:N:0:' because it was < 2 characters long\n",
      "Warning: skipping read 'MISEQ:354:000000000-AA89J:1:1113:10742:25631 1:N:0:' because length (1) <= # seed mismatches (0)\n",
      "Warning: skipping read 'MISEQ:354:000000000-AA89J:1:1113:10742:25631 1:N:0:' because it was < 2 characters long\n",
      "Warning: skipping read 'MISEQ:354:000000000-AA89J:1:1114:10857:10319 1:N:0:' because length (1) <= # seed mismatches (0)\n",
      "Warning: skipping read 'MISEQ:354:000000000-AA89J:1:1114:10857:10319 1:N:0:' because it was < 2 characters long\n",
      "Warning: skipping read 'MISEQ:354:000000000-AA89J:1:1114:7480:20016 1:N:0:' because length (1) <= # seed mismatches (0)\n",
      "Warning: skipping read 'MISEQ:354:000000000-AA89J:1:1114:7480:20016 1:N:0:' because it was < 2 characters long\n",
      "Warning: skipping read 'MISEQ:354:000000000-AA89J:1:2101:6242:12919 1:N:0:' because length (1) <= # seed mismatches (0)\n",
      "Warning: skipping read 'MISEQ:354:000000000-AA89J:1:2101:6242:12919 1:N:0:' because it was < 2 characters long\n",
      "Warning: skipping read 'MISEQ:354:000000000-AA89J:1:2101:27371:17354 1:N:0:' because length (1) <= # seed mismatches (0)\n",
      "Warning: skipping read 'MISEQ:354:000000000-AA89J:1:2101:27371:17354 1:N:0:' because it was < 2 characters long\n",
      "Warning: skipping read 'MISEQ:354:000000000-AA89J:1:2102:5414:7921 1:N:0:' because length (1) <= # seed mismatches (0)\n",
      "Warning: skipping read 'MISEQ:354:000000000-AA89J:1:2102:5414:7921 1:N:0:' because it was < 2 characters long\n",
      "Warning: skipping read 'MISEQ:354:000000000-AA89J:1:2102:19471:8444 1:N:0:' because length (1) <= # seed mismatches (0)\n",
      "Warning: skipping read 'MISEQ:354:000000000-AA89J:1:2102:19471:8444 1:N:0:' because it was < 2 characters long\n",
      "Warning: skipping read 'MISEQ:354:000000000-AA89J:1:2102:26502:11138 1:N:0:' because length (1) <= # seed mismatches (0)\n",
      "Warning: skipping read 'MISEQ:354:000000000-AA89J:1:2102:26502:11138 1:N:0:' because it was < 2 characters long\n",
      "Warning: skipping read 'MISEQ:354:000000000-AA89J:1:2103:9649:12670 1:N:0:' because length (1) <= # seed mismatches (0)\n",
      "Warning: skipping read 'MISEQ:354:000000000-AA89J:1:2103:9649:12670 1:N:0:' because it was < 2 characters long\n",
      "Warning: skipping read 'MISEQ:354:000000000-AA89J:1:2103:18965:26869 1:N:0:' because length (1) <= # seed mismatches (0)\n",
      "Warning: skipping read 'MISEQ:354:000000000-AA89J:1:2103:18965:26869 1:N:0:' because it was < 2 characters long\n",
      "Warning: skipping read 'MISEQ:354:000000000-AA89J:1:2104:6795:11694 1:N:0:' because length (1) <= # seed mismatches (0)\n",
      "Warning: skipping read 'MISEQ:354:000000000-AA89J:1:2104:6795:11694 1:N:0:' because it was < 2 characters long\n",
      "Warning: skipping read 'MISEQ:354:000000000-AA89J:1:2105:12674:10855 1:N:0:' because length (1) <= # seed mismatches (0)\n",
      "Warning: skipping read 'MISEQ:354:000000000-AA89J:1:2105:12674:10855 1:N:0:' because it was < 2 characters long\n",
      "Warning: skipping read 'MISEQ:354:000000000-AA89J:1:2105:9201:21364 1:N:0:' because length (1) <= # seed mismatches (0)\n",
      "Warning: skipping read 'MISEQ:354:000000000-AA89J:1:2105:9201:21364 1:N:0:' because it was < 2 characters long\n",
      "Warning: skipping read 'MISEQ:354:000000000-AA89J:1:2106:15782:27545 1:N:0:' because length (1) <= # seed mismatches (0)\n",
      "Warning: skipping read 'MISEQ:354:000000000-AA89J:1:2106:15782:27545 1:N:0:' because it was < 2 characters long\n",
      "Warning: skipping read 'MISEQ:354:000000000-AA89J:1:2107:8907:12442 1:N:0:' because length (1) <= # seed mismatches (0)\n",
      "Warning: skipping read 'MISEQ:354:000000000-AA89J:1:2107:8907:12442 1:N:0:' because it was < 2 characters long\n",
      "Warning: skipping read 'MISEQ:354:000000000-AA89J:1:2108:23435:13718 1:N:0:' because length (1) <= # seed mismatches (0)\n",
      "Warning: skipping read 'MISEQ:354:000000000-AA89J:1:2108:23435:13718 1:N:0:' because it was < 2 characters long\n",
      "Warning: skipping read 'MISEQ:354:000000000-AA89J:1:2108:14926:22037 1:N:0:' because length (1) <= # seed mismatches (0)\n",
      "Warning: skipping read 'MISEQ:354:000000000-AA89J:1:2108:14926:22037 1:N:0:' because it was < 2 characters long\n",
      "Warning: skipping read 'MISEQ:354:000000000-AA89J:1:2110:10281:5290 1:N:0:' because length (1) <= # seed mismatches (0)\n",
      "Warning: skipping read 'MISEQ:354:000000000-AA89J:1:2110:10281:5290 1:N:0:' because it was < 2 characters long\n",
      "Warning: skipping read 'MISEQ:354:000000000-AA89J:1:2110:6398:10740 1:N:0:' because length (1) <= # seed mismatches (0)\n",
      "Warning: skipping read 'MISEQ:354:000000000-AA89J:1:2110:6398:10740 1:N:0:' because it was < 2 characters long\n",
      "Warning: skipping read 'MISEQ:354:000000000-AA89J:1:2110:2915:11941 1:N:0:' because length (1) <= # seed mismatches (0)\n",
      "Warning: skipping read 'MISEQ:354:000000000-AA89J:1:2110:2915:11941 1:N:0:' because it was < 2 characters long\n",
      "Warning: skipping read 'MISEQ:354:000000000-AA89J:1:2110:9848:14174 1:N:0:' because length (1) <= # seed mismatches (0)\n",
      "Warning: skipping read 'MISEQ:354:000000000-AA89J:1:2110:9848:14174 1:N:0:' because it was < 2 characters long\n",
      "Warning: skipping read 'MISEQ:354:000000000-AA89J:1:2110:18539:18718 1:N:0:' because length (1) <= # seed mismatches (0)\n",
      "Warning: skipping read 'MISEQ:354:000000000-AA89J:1:2110:18539:18718 1:N:0:' because it was < 2 characters long\n",
      "Warning: skipping read 'MISEQ:354:000000000-AA89J:1:2110:9037:18793 1:N:0:' because length (1) <= # seed mismatches (0)\n",
      "Warning: skipping read 'MISEQ:354:000000000-AA89J:1:2110:9037:18793 1:N:0:' because it was < 2 characters long\n",
      "Warning: skipping read 'MISEQ:354:000000000-AA89J:1:2110:18106:26440 1:N:0:' because length (1) <= # seed mismatches (0)\n",
      "Warning: skipping read 'MISEQ:354:000000000-AA89J:1:2110:18106:26440 1:N:0:' because it was < 2 characters long\n",
      "Warning: skipping read 'MISEQ:354:000000000-AA89J:1:2111:8864:7182 1:N:0:' because length (1) <= # seed mismatches (0)\n",
      "Warning: skipping read 'MISEQ:354:000000000-AA89J:1:2111:8864:7182 1:N:0:' because it was < 2 characters long\n",
      "Warning: skipping read 'MISEQ:354:000000000-AA89J:1:2111:9773:22398 1:N:0:' because length (1) <= # seed mismatches (0)\n",
      "Warning: skipping read 'MISEQ:354:000000000-AA89J:1:2111:9773:22398 1:N:0:' because it was < 2 characters long\n",
      "Warning: skipping read 'MISEQ:354:000000000-AA89J:1:2111:23056:22717 1:N:0:' because length (1) <= # seed mismatches (0)\n",
      "Warning: skipping read 'MISEQ:354:000000000-AA89J:1:2111:23056:22717 1:N:0:' because it was < 2 characters long\n",
      "Warning: skipping read 'MISEQ:354:000000000-AA89J:1:2112:9459:16800 1:N:0:' because length (1) <= # seed mismatches (0)\n",
      "Warning: skipping read 'MISEQ:354:000000000-AA89J:1:2112:9459:16800 1:N:0:' because it was < 2 characters long\n",
      "Warning: skipping read 'MISEQ:354:000000000-AA89J:1:2112:11756:25931 1:N:0:' because length (1) <= # seed mismatches (0)\n",
      "Warning: skipping read 'MISEQ:354:000000000-AA89J:1:2112:11756:25931 1:N:0:' because it was < 2 characters long\n",
      "Warning: skipping read 'MISEQ:354:000000000-AA89J:1:2113:12765:4458 1:N:0:' because length (1) <= # seed mismatches (0)\n",
      "Warning: skipping read 'MISEQ:354:000000000-AA89J:1:2113:12765:4458 1:N:0:' because it was < 2 characters long\n",
      "Warning: skipping read 'MISEQ:354:000000000-AA89J:1:2113:6813:17461 1:N:0:' because length (1) <= # seed mismatches (0)\n",
      "Warning: skipping read 'MISEQ:354:000000000-AA89J:1:2113:6813:17461 1:N:0:' because it was < 2 characters long\n",
      "Warning: skipping read 'MISEQ:354:000000000-AA89J:1:2113:24335:21611 1:N:0:' because length (1) <= # seed mismatches (0)\n",
      "Warning: skipping read 'MISEQ:354:000000000-AA89J:1:2113:24335:21611 1:N:0:' because it was < 2 characters long\n",
      "Warning: skipping read 'MISEQ:354:000000000-AA89J:1:2113:14713:22731 1:N:0:' because length (1) <= # seed mismatches (0)\n",
      "Warning: skipping read 'MISEQ:354:000000000-AA89J:1:2113:14713:22731 1:N:0:' because it was < 2 characters long\n",
      "Warning: skipping read 'MISEQ:354:000000000-AA89J:1:2113:10901:27403 1:N:0:' because length (1) <= # seed mismatches (0)\n",
      "Warning: skipping read 'MISEQ:354:000000000-AA89J:1:2113:10901:27403 1:N:0:' because it was < 2 characters long\n",
      "Warning: skipping read 'MISEQ:354:000000000-AA89J:1:2114:4756:12955 1:N:0:' because length (1) <= # seed mismatches (0)\n",
      "Warning: skipping read 'MISEQ:354:000000000-AA89J:1:2114:4756:12955 1:N:0:' because it was < 2 characters long\n",
      "Warning: skipping read 'MISEQ:354:000000000-AA89J:1:2114:20722:19386 1:N:0:' because length (1) <= # seed mismatches (0)\n",
      "Warning: skipping read 'MISEQ:354:000000000-AA89J:1:2114:20722:19386 1:N:0:' because it was < 2 characters long\n",
      "14488273 reads; of these:\n",
      "  14488273 (100.00%) were unpaired; of these:\n",
      "    5987221 (41.32%) aligned 0 times\n",
      "    8500333 (58.67%) aligned exactly 1 time\n",
      "    719 (0.00%) aligned >1 times\n",
      "58.68% overall alignment rate\n"
     ]
    }
   ],
   "source": [
    "%%bash\n",
    "/Users/pvmarkov/dengue/bin/bowtie2-2.2.8/bowtie2 -x /Users/pvmarkov/dengue/data/NGC_inedex -U /Users/pvmarkov/dengue/data/100longreads_noadapt6_forwardreads.gz  | /Users/pvmarkov/dengue/bin/samtools view -Sb - > /Users/pvmarkov/dengue/data/100longreads_noadapt6_forwardreads.bam"
   ]
  },
  {
   "cell_type": "markdown",
   "metadata": {},
   "source": [
    "##### -Producing a .bam file from the reverse read. Used the trimmed reads file with removed adaptor 6 and low quality sequences at the end."
   ]
  },
  {
   "cell_type": "code",
   "execution_count": 8,
   "metadata": {
    "collapsed": false
   },
   "outputs": [
    {
     "name": "stderr",
     "output_type": "stream",
     "text": [
      "14488273 reads; of these:\n",
      "  14488273 (100.00%) were unpaired; of these:\n",
      "    6289702 (43.41%) aligned 0 times\n",
      "    8198571 (56.59%) aligned exactly 1 time\n",
      "    0 (0.00%) aligned >1 times\n",
      "56.59% overall alignment rate\n"
     ]
    }
   ],
   "source": [
    "%%bash\n",
    "/Users/pvmarkov/dengue/bin/bowtie2-2.2.8/bowtie2 -x /Users/pvmarkov/dengue/data/NGC_inedex -U /Users/pvmarkov/dengue/data/100longreads_noadapt6_reversereads.gz  | /Users/pvmarkov/dengue/bin/samtools view -Sb - > /Users/pvmarkov/dengue/data/100longreads_noadapt6_reversereads.bam"
   ]
  },
  {
   "cell_type": "markdown",
   "metadata": {},
   "source": [
    "##### -Reheading the two .bam files in the following two cells."
   ]
  },
  {
   "cell_type": "code",
   "execution_count": 17,
   "metadata": {
    "collapsed": false
   },
   "outputs": [],
   "source": [
    "%%bash\n",
    "/Users/pvmarkov/dengue/bin/samtools view -H /Users/pvmarkov/dengue/data/100longreads_noadapt6_forwardreads.bam | sed -e 's/SN:/SN:NGC_virus/' | /Users/pvmarkov/dengue/bin/samtools reheader - /Users/pvmarkov/dengue/data/100longreads_noadapt6_forwardreads.bam > /Users/pvmarkov/dengue/data/100longreads_noadapt6_forward_rehead.bam"
   ]
  },
  {
   "cell_type": "code",
   "execution_count": 18,
   "metadata": {
    "collapsed": false
   },
   "outputs": [],
   "source": [
    "%%bash\n",
    "/Users/pvmarkov/dengue/bin/samtools view -H /Users/pvmarkov/dengue/data/100longreads_noadapt6_reversereads.bam | sed -e 's/SN:/SN:NGC_virus/' | /Users/pvmarkov/dengue/bin/samtools reheader - /Users/pvmarkov/dengue/data/100longreads_noadapt6_reversereads.bam > /Users/pvmarkov/dengue/data/100longreads_noadapt6_reverse_rehead.bam"
   ]
  },
  {
   "cell_type": "markdown",
   "metadata": {},
   "source": [
    "##### - Sorting and indexing the reheaded two bam files in the following two cells."
   ]
  },
  {
   "cell_type": "code",
   "execution_count": 19,
   "metadata": {
    "collapsed": false
   },
   "outputs": [
    {
     "name": "stderr",
     "output_type": "stream",
     "text": [
      "[bam_sort_core] merging from 6 files...\n"
     ]
    }
   ],
   "source": [
    "%%bash\n",
    "/Users/pvmarkov/dengue/bin/samtools sort -l 0 -o /Users/pvmarkov/dengue/data/100longreads_noadapt6_reverse_rehead_sorted.bam -O bam -T /Users/pvmarkov/dengue/data/alignments2ndRead.temp -@ 2 /Users/pvmarkov/dengue/data/100longreads_noadapt6_reverse_rehead.bam\n",
    "/Users/pvmarkov/dengue/bin/samtools index -b /Users/pvmarkov/dengue/data/100longreads_noadapt6_reverse_rehead_sorted.bam"
   ]
  },
  {
   "cell_type": "code",
   "execution_count": 20,
   "metadata": {
    "collapsed": false
   },
   "outputs": [
    {
     "name": "stderr",
     "output_type": "stream",
     "text": [
      "[bam_sort_core] merging from 6 files...\n"
     ]
    }
   ],
   "source": [
    "%%bash\n",
    "/Users/pvmarkov/dengue/bin/samtools sort -l 0 -o /Users/pvmarkov/dengue/data/100longreads_noadapt6_forward_rehead_sorted.bam -O bam -T /Users/pvmarkov/dengue/data/alignments2ndRead.temp -@ 2 /Users/pvmarkov/dengue/data/100longreads_noadapt6_forward_rehead.bam\n",
    "/Users/pvmarkov/dengue/bin/samtools index -b /Users/pvmarkov/dengue/data/100longreads_noadapt6_forward_rehead_sorted.bam"
   ]
  },
  {
   "cell_type": "markdown",
   "metadata": {},
   "source": [
    "##### - Producing .csv files from the two sorted & indexed bam files. The two .bam files are processed in parallel below. Each of the two parallel processes generates 3 separate .csv files: 1. Contains nucleotide counts and statistics by genome position; 2. Contains number of indels per read; 3. Contains number of indels found in the alignment, by indel length."
   ]
  },
  {
   "cell_type": "code",
   "execution_count": 23,
   "metadata": {
    "collapsed": false
   },
   "outputs": [
    {
     "name": "stdout",
     "output_type": "stream",
     "text": [
      "                  As             Cs             Gs     Ns             Ts  \\\n",
      "count   10717.000000   10717.000000   10717.000000  10717   10717.000000   \n",
      "mean    25867.600635   16243.669777   19956.653821      0   16283.057945   \n",
      "std     38834.025490   33282.897516   35804.807255      0   32961.975806   \n",
      "min         0.000000       0.000000       0.000000      0       0.000000   \n",
      "25%        13.000000      13.000000      14.000000      0      37.000000   \n",
      "50%        26.000000      26.000000      32.000000      0      73.000000   \n",
      "75%     65048.000000     110.000000   23401.000000      0     284.000000   \n",
      "max    156852.000000  157657.000000  156078.000000      0  153596.000000   \n",
      "\n",
      "            coverage  expected_number_of_errors  majorbase_ratio  \\\n",
      "count   10717.000000               10717.000000     10717.000000   \n",
      "mean    78350.982178                 116.802071         0.997468   \n",
      "std     21662.262504                 140.175901         0.012078   \n",
      "min         1.000000                   0.015036         0.333333   \n",
      "25%     65704.000000                  56.961790         0.997835   \n",
      "50%     78609.000000                  77.972501         0.998744   \n",
      "75%     92201.000000                 114.541220         0.999175   \n",
      "max    157774.000000                 862.664109         1.000000   \n",
      "\n",
      "          majorbases  number_of_indels_by_position      position  \\\n",
      "count   10717.000000                  10717.000000  10717.000000   \n",
      "mean    78182.544742                     10.425026   5359.000000   \n",
      "std     21623.177597                    180.832298   3093.875752   \n",
      "min         1.000000                      0.000000      1.000000   \n",
      "25%     65594.000000                      0.000000   2680.000000   \n",
      "50%     78407.000000                      1.000000   5359.000000   \n",
      "75%     91970.000000                      3.000000   8038.000000   \n",
      "max    157657.000000                  10420.000000  10717.000000   \n",
      "\n",
      "       probability_of_seq_error    secondbase  secondbase_ratio  \n",
      "count              10717.000000  10717.000000      10717.000000  \n",
      "mean                   0.001686    115.819632          0.001792  \n",
      "std                    0.008678    439.306853          0.009952  \n",
      "min                    0.000172      0.000000          0.000000  \n",
      "25%                    0.000771     33.000000          0.000447  \n",
      "50%                    0.000972     57.000000          0.000731  \n",
      "75%                    0.001448    107.000000          0.001408  \n",
      "max                    0.794328  27658.000000          0.333333  \n",
      "       number_of_indels_per_read  number_of_reads_with_given_indel_number\n",
      "count                   5.000000                                 5.000000\n",
      "mean                    3.000000                           1700210.400000\n",
      "std                     1.581139                           3741897.175635\n",
      "min                     1.000000                                14.000000\n",
      "25%                     2.000000                               367.000000\n",
      "50%                     3.000000                              3344.000000\n",
      "75%                     4.000000                            103880.000000\n",
      "max                     5.000000                           8393447.000000\n",
      "       indel_size  number_of_indels_by_size\n",
      "count   35.000000                 35.000000\n",
      "mean     0.514286               3192.142857\n",
      "std     10.689113              12049.973537\n",
      "min    -17.000000                  1.000000\n",
      "25%     -8.500000                  4.500000\n",
      "50%      1.000000                 61.000000\n",
      "75%      9.500000                687.000000\n",
      "max     18.000000              69260.000000\n",
      "                  As             Cs             Gs            Ns  \\\n",
      "count   10718.000000   10718.000000   10718.000000  10718.000000   \n",
      "mean    25141.954842   15949.737918   19139.599739      0.000187   \n",
      "std     36810.597369   31855.050942   33770.378450      0.013660   \n",
      "min         0.000000       0.000000       0.000000      0.000000   \n",
      "25%       129.000000      69.000000      42.000000      0.000000   \n",
      "50%       411.000000     256.000000      81.000000      0.000000   \n",
      "75%     66181.750000     623.000000   28428.000000      0.000000   \n",
      "max    131626.000000  129775.000000  133026.000000      1.000000   \n",
      "\n",
      "                  Ts       coverage  expected_number_of_errors  \\\n",
      "count   10718.000000   10718.000000               10718.000000   \n",
      "mean    15898.079026   76129.371711                1159.997261   \n",
      "std     31760.740664   17500.329240                 366.244805   \n",
      "min         0.000000       1.000000                   0.005012   \n",
      "25%        51.000000   67382.250000                 903.025386   \n",
      "50%        74.000000   76500.000000                1128.538810   \n",
      "75%       155.000000   85030.750000                1364.923225   \n",
      "max    130491.000000  133336.000000                2575.877155   \n",
      "\n",
      "       majorbase_ratio     majorbases  number_of_indels_by_position  \\\n",
      "count     10718.000000   10718.000000                  10718.000000   \n",
      "mean          0.992414   75631.353984                     27.603657   \n",
      "std           0.017806   17430.638811                    235.742629   \n",
      "min           0.446154       1.000000                      0.000000   \n",
      "25%           0.991675   66937.750000                      3.000000   \n",
      "50%           0.994151   75975.000000                      8.000000   \n",
      "75%           0.996310   84445.500000                     22.000000   \n",
      "max           1.000000  133026.000000                  13328.000000   \n",
      "\n",
      "           position  probability_of_seq_error    secondbase  secondbase_ratio  \n",
      "count  10718.000000              10718.000000  10718.000000      10718.000000  \n",
      "mean    5358.500000                  0.018006    336.487871          0.005189  \n",
      "std     3094.164427                  0.037821    266.900043          0.013749  \n",
      "min        0.000000                  0.001467      0.000000          0.000000  \n",
      "25%     2679.250000                  0.012109    137.000000          0.001877  \n",
      "50%     5358.500000                  0.014882    295.000000          0.004019  \n",
      "75%     8037.750000                  0.017997    462.000000          0.006100  \n",
      "max    10717.000000                  1.000000   5037.000000          0.500000  \n",
      "       number_of_indels_per_read  number_of_reads_with_given_indel_number\n",
      "count                   5.000000                                 5.000000\n",
      "mean                    3.000000                           1639714.200000\n",
      "std                     1.581139                           3536125.171208\n",
      "min                     1.000000                               318.000000\n",
      "25%                     2.000000                              7304.000000\n",
      "50%                     3.000000                             45707.000000\n",
      "75%                     4.000000                            181258.000000\n",
      "max                     5.000000                           7963984.000000\n",
      "       indel_size  number_of_indels_by_size\n",
      "count   34.000000                 34.000000\n",
      "mean     0.852941               8701.647059\n",
      "std     10.657569              22538.421719\n",
      "min    -17.000000                  1.000000\n",
      "25%     -7.750000                  8.250000\n",
      "50%      1.500000                710.000000\n",
      "75%      9.750000               7515.500000\n",
      "max     18.000000             126084.000000\n"
     ]
    }
   ],
   "source": [
    "%%bash\n",
    "python /Users/pvmarkov/dengue/scripts/indels_investigation_FORWARD_READS_ONLY_seqqualOFF_alignqualOFF_pairsOFF.py&\n",
    "python /Users/pvmarkov/dengue/scripts/indels_investigation_REVERSE_READS_ONLY_seqqualOFF_alignqualOFF_pairsOFF.py&"
   ]
  },
  {
   "cell_type": "code",
   "execution_count": null,
   "metadata": {
    "collapsed": true
   },
   "outputs": [],
   "source": []
  }
 ],
 "metadata": {
  "kernelspec": {
   "display_name": "Python 3",
   "language": "python",
   "name": "python3"
  },
  "language_info": {
   "codemirror_mode": {
    "name": "ipython",
    "version": 3
   },
   "file_extension": ".py",
   "mimetype": "text/x-python",
   "name": "python",
   "nbconvert_exporter": "python",
   "pygments_lexer": "ipython3",
   "version": "3.5.1"
  }
 },
 "nbformat": 4,
 "nbformat_minor": 0
}
