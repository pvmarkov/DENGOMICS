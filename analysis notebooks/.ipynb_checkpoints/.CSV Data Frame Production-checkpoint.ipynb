{
 "cells": [
  {
   "cell_type": "code",
   "execution_count": 8,
   "metadata": {
    "collapsed": false
   },
   "outputs": [
    {
     "name": "stdout",
     "output_type": "stream",
     "text": [
      "                 As            Cs            Gs     Ns            Ts  \\\n",
      "count  10705.000000  10705.000000  10705.000000  10705  10705.000000   \n",
      "mean      66.829239     42.120037     52.204297      0     43.142644   \n",
      "std       96.572196     83.340503     89.485509      0     83.197528   \n",
      "min        0.000000      0.000000      0.000000      0      0.000000   \n",
      "25%        1.000000      0.000000      1.000000      0      0.000000   \n",
      "50%        2.000000      1.000000      2.000000      0      2.000000   \n",
      "75%      174.000000      3.000000     80.000000      0      5.000000   \n",
      "max      329.000000    330.000000    336.000000      0    336.000000   \n",
      "\n",
      "           coverage  expected_number_of_errors  majorbase_ratio    majorbases  \\\n",
      "count  10705.000000               10705.000000     10705.000000  10705.000000   \n",
      "mean     204.296217                   4.526104         0.977628    200.083699   \n",
      "std       44.815564                   2.195166         0.027065     44.463807   \n",
      "min        1.000000                   0.163501         0.333333      1.000000   \n",
      "25%      180.000000                   2.893309         0.970833    176.000000   \n",
      "50%      205.000000                   4.141513         0.982301    200.000000   \n",
      "75%      229.000000                   5.901300         0.990521    226.000000   \n",
      "max      338.000000                  11.800066         1.000000    336.000000   \n",
      "\n",
      "       number_of_indels_by_position     position  probability_of_seq_error  \\\n",
      "count                  10705.000000  10705.00000              10705.000000   \n",
      "mean                       0.488650   5358.00000                  0.023148   \n",
      "std                        0.964179   3090.41165                  0.025689   \n",
      "min                        0.000000      6.00000                  0.005869   \n",
      "25%                        0.000000   2682.00000                  0.014436   \n",
      "50%                        0.000000   5358.00000                  0.020051   \n",
      "75%                        1.000000   8034.00000                  0.028408   \n",
      "max                       23.000000  10710.00000                  1.000000   \n",
      "\n",
      "         secondbase  secondbase_ratio  \n",
      "count  10705.000000      10705.000000  \n",
      "mean       2.711256          0.014662  \n",
      "std        2.101820          0.019744  \n",
      "min        0.000000          0.000000  \n",
      "25%        1.000000          0.005814  \n",
      "50%        2.000000          0.011173  \n",
      "75%        4.000000          0.018265  \n",
      "max       32.000000          0.500000  \n"
     ]
    },
    {
     "name": "stderr",
     "output_type": "stream",
     "text": [
      "Warning: The index file is older than the data file: /Users/pvmarkov/dengue/data/reads_subset.bam.bai\n"
     ]
    }
   ],
   "source": [
    "%%bash\n",
    "#python /Users/pvmarkov/dengue/scripts/doing_merge_kass_cover_majorb_seqqual60ON_alignqualOFF_pairsOFF.py&\n",
    "#python /Users/pvmarkov/dengue/scripts/doing_merge_kass_cover_majorb_seqqualOFF_alignqualOFF_pairsOFF.py&\n",
    "#python /Users/pvmarkov/dengue/scripts/doing_merge_kass_cover_majorb_seqqualOFF_alignqualON_pairsOFF.py\n",
    "python /Users/pvmarkov/dengue/scripts/indel_analysis_testrun_with_subset_dataset_1.py"
   ]
  },
  {
   "cell_type": "code",
   "execution_count": 9,
   "metadata": {
    "collapsed": false
   },
   "outputs": [
    {
     "name": "stdout",
     "output_type": "stream",
     "text": [
      "                  As             Cs             Gs     Ns             Ts  \\\n",
      "count   10716.000000   10716.000000   10716.000000  10716   10716.000000   \n",
      "mean    33704.654629   20991.675905   24827.219578      0   20748.943169   \n",
      "std     49933.061468   42613.816030   44067.413878      0   41805.422415   \n",
      "min         0.000000       0.000000       0.000000      0       0.000000   \n",
      "25%         4.000000       3.000000       2.000000      0       5.000000   \n",
      "50%        11.000000      11.000000      11.000000      0      10.000000   \n",
      "75%     88760.000000      50.000000   35842.500000      0      31.000000   \n",
      "max    173422.000000  169396.000000  169790.000000      0  167646.000000   \n",
      "\n",
      "            coverage  expected_number_of_errors  majorbase_ratio  \\\n",
      "count   10716.000000               10716.000000     10716.000000   \n",
      "mean   100272.493934                   6.332549         0.998909   \n",
      "std     23993.972401                   1.515047         0.025570   \n",
      "min         1.000000                   0.000000         0.000000   \n",
      "25%     87738.000000                   5.542565         0.999611   \n",
      "50%    100858.500000                   6.368833         0.999738   \n",
      "75%    112511.000000                   7.104850         0.999814   \n",
      "max    173459.000000                  10.954561         1.000000   \n",
      "\n",
      "          majorbases  number_of_indels_by_position      position  \\\n",
      "count   10716.000000                  10716.000000  10716.000000   \n",
      "mean   100231.239362                     12.009705   5357.500000   \n",
      "std     23988.343852                    256.593120   3093.587077   \n",
      "min         0.000000                      0.000000      0.000000   \n",
      "25%     87696.750000                      0.000000   2678.750000   \n",
      "50%    100807.500000                      1.000000   5357.500000   \n",
      "75%    112457.000000                      2.000000   8036.250000   \n",
      "max    173422.000000                  14831.000000  10715.000000   \n",
      "\n",
      "       probability_of_seq_error    secondbase  secondbase_ratio  \n",
      "count              10716.000000  10716.000000      10716.000000  \n",
      "mean                   0.000063     28.749813          0.000310  \n",
      "std                    0.000002     77.695104          0.001123  \n",
      "min                    0.000000      0.000000          0.000000  \n",
      "25%                    0.000063     11.000000          0.000111  \n",
      "50%                    0.000063     17.000000          0.000169  \n",
      "75%                    0.000063     27.000000          0.000267  \n",
      "max                    0.000063   5788.000000          0.059533  \n"
     ]
    }
   ],
   "source": [
    "%%bash\n",
    "#python /Users/pvmarkov/dengue/scripts/doing_merge_kass_cover_majorb_seqqualOFF_alignqualON_pairsOFF.py&\n",
    "python /Users/pvmarkov/dengue/scripts/indels_by_position_with_mergeddatakass_seqqualON_alignqualON_pairsOFF.py"
   ]
  },
  {
   "cell_type": "code",
   "execution_count": null,
   "metadata": {
    "collapsed": true
   },
   "outputs": [],
   "source": []
  },
  {
   "cell_type": "code",
   "execution_count": 13,
   "metadata": {
    "collapsed": false
   },
   "outputs": [
    {
     "name": "stdout",
     "output_type": "stream",
     "text": [
      "          As     Cs     Gs     Ns     Ts  coverage  expected_number_of_errors  \\\n",
      "count  10718  10718  10718  10718  10718     10718                      10718   \n",
      "mean       0      0      0      0      0         1                          0   \n",
      "std        0      0      0      0      0         0                          0   \n",
      "min        0      0      0      0      0         1                          0   \n",
      "25%        0      0      0      0      0         1                          0   \n",
      "50%        0      0      0      0      0         1                          0   \n",
      "75%        0      0      0      0      0         1                          0   \n",
      "max        0      0      0      0      0         1                          0   \n",
      "\n",
      "       majorbase_ratio  majorbases  number_of_indels_by_position  \\\n",
      "count            10718       10718                         10718   \n",
      "mean                 0           0                             0   \n",
      "std                  0           0                             0   \n",
      "min                  0           0                             0   \n",
      "25%                  0           0                             0   \n",
      "50%                  0           0                             0   \n",
      "75%                  0           0                             0   \n",
      "max                  0           0                             0   \n",
      "\n",
      "           position  probability_of_seq_error  secondbase  secondbase_ratio  \n",
      "count  10718.000000                     10718       10718             10718  \n",
      "mean    5358.500000                         0           0                 0  \n",
      "std     3094.164427                         0           0                 0  \n",
      "min        0.000000                         0           0                 0  \n",
      "25%     2679.250000                         0           0                 0  \n",
      "50%     5358.500000                         0           0                 0  \n",
      "75%     8037.750000                         0           0                 0  \n",
      "max    10717.000000                         0           0                 0  \n"
     ]
    }
   ],
   "source": [
    "%%bash\n",
    "python /Users/pvmarkov/dengue/scripts/indels_by_position_with_nonmerged_two_way_data_seqqualON_alignqualON_pairsOFF.py"
   ]
  },
  {
   "cell_type": "code",
   "execution_count": null,
   "metadata": {
    "collapsed": true
   },
   "outputs": [],
   "source": [
    "%%bash\n",
    "python /Users/pvmarkov/dengue/scripts/indels_by_position_with_nonmerged_two_way_data_2run_seqqualOFF_alignqualOFF_pairsOFF.py"
   ]
  },
  {
   "cell_type": "code",
   "execution_count": null,
   "metadata": {
    "collapsed": true
   },
   "outputs": [],
   "source": []
  },
  {
   "cell_type": "code",
   "execution_count": null,
   "metadata": {
    "collapsed": true
   },
   "outputs": [],
   "source": []
  },
  {
   "cell_type": "code",
   "execution_count": null,
   "metadata": {
    "collapsed": true
   },
   "outputs": [],
   "source": []
  },
  {
   "cell_type": "code",
   "execution_count": null,
   "metadata": {
    "collapsed": true
   },
   "outputs": [],
   "source": []
  },
  {
   "cell_type": "code",
   "execution_count": 10,
   "metadata": {
    "collapsed": false
   },
   "outputs": [
    {
     "name": "stderr",
     "output_type": "stream",
     "text": [
      "Warning: The index file is older than the data file: /Users/pvmarkov/dengue/data/reads_subset.bam.bai\n",
      "Traceback (most recent call last):\n",
      "  File \"/Users/pvmarkov/dengue/scripts/indel_analysis_testrun_with_subset_dataset_2.py\", line 3, in <module>\n",
      "    getting_cover_ntfreqs (\"/Users/pvmarkov/dengue/data/reads_subset.bam\", \"/Users/pvmarkov/dengue/data/indel_analysis_test_run_with_subset_file_2.csv\", False, False, False)\n",
      "  File \"<string>\", line 99, in getting_cover_ntfreqs\n",
      "  File \"/Users/pvmarkov/anaconda/lib/python3.5/site-packages/pandas/core/frame.py\", line 766, in from_dict\n",
      "    return cls(data, index=index, columns=columns, dtype=dtype)\n",
      "  File \"/Users/pvmarkov/anaconda/lib/python3.5/site-packages/pandas/core/frame.py\", line 227, in __init__\n",
      "    mgr = self._init_dict(data, index, columns, dtype=dtype)\n",
      "  File \"/Users/pvmarkov/anaconda/lib/python3.5/site-packages/pandas/core/frame.py\", line 362, in _init_dict\n",
      "    dtype=dtype)\n",
      "  File \"/Users/pvmarkov/anaconda/lib/python3.5/site-packages/pandas/core/frame.py\", line 5092, in _arrays_to_mgr\n",
      "    index = extract_index(arrays)\n",
      "  File \"/Users/pvmarkov/anaconda/lib/python3.5/site-packages/pandas/core/frame.py\", line 5131, in extract_index\n",
      "    raise ValueError('If using all scalar values, you must pass'\n",
      "ValueError: If using all scalar values, you must pass an index\n"
     ]
    }
   ],
   "source": [
    "%%bash\n",
    "#python /Users/pvmarkov/dengue/scripts/doing_merge_kass_cover_majorb_seqqualOFF_alignqualON_pairsOFF.py&\n",
    "python /Users/pvmarkov/dengue/scripts/indel_analysis_testrun_with_subset_dataset_2.py"
   ]
  },
  {
   "cell_type": "code",
   "execution_count": 14,
   "metadata": {
    "collapsed": false
   },
   "outputs": [
    {
     "name": "stdout",
     "output_type": "stream",
     "text": [
      "Process is terminated.\n"
     ]
    }
   ],
   "source": [
    "%%bash\n",
    "python /Users/pvmarkov/dengue/scripts/indels_by_position_with_nonmerged_two_way_data_seqqualON_alignqualON_pairsOFF.py\n"
   ]
  },
  {
   "cell_type": "code",
   "execution_count": null,
   "metadata": {
    "collapsed": true
   },
   "outputs": [],
   "source": []
  }
 ],
 "metadata": {
  "kernelspec": {
   "display_name": "Python 3",
   "language": "python",
   "name": "python3"
  },
  "language_info": {
   "codemirror_mode": {
    "name": "ipython",
    "version": 3
   },
   "file_extension": ".py",
   "mimetype": "text/x-python",
   "name": "python",
   "nbconvert_exporter": "python",
   "pygments_lexer": "ipython3",
   "version": "3.5.1"
  }
 },
 "nbformat": 4,
 "nbformat_minor": 0
}
