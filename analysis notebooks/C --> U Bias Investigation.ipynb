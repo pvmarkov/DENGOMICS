{
 "cells": [
  {
   "cell_type": "markdown",
   "metadata": {},
   "source": [
    "* Importing the functions file...\n",
    "* Importing the reference genome file..."
   ]
  },
  {
   "cell_type": "code",
   "execution_count": 35,
   "metadata": {
    "collapsed": true
   },
   "outputs": [],
   "source": [
    "exec (open(\"/Users/pvmarkov/dengue/scripts/functions2.py\").read ())\n",
    "refgenome_file = \"/Users/pvmarkov/dengue/data/pDVWSK601-NGC virus.gb\""
   ]
  },
  {
   "cell_type": "markdown",
   "metadata": {},
   "source": [
    "* Importing the dataframe file...\n",
    "* Defining the reference genome correction..."
   ]
  },
  {
   "cell_type": "code",
   "execution_count": 36,
   "metadata": {
    "collapsed": false
   },
   "outputs": [
    {
     "name": "stdout",
     "output_type": "stream",
     "text": [
      "16138\n"
     ]
    }
   ],
   "source": [
    "counts_dataframe = pd.read_csv (\"/Users/pvmarkov/dengue/data/pilotdata_mergedreads_seqqualON60_alignqualON_pairsOFF.csv\")\n",
    "\n",
    "correction = - getting_position_correction (refgenome_file, ''.join(counts_dataframe ['majorsequence']))"
   ]
  },
  {
   "cell_type": "markdown",
   "metadata": {},
   "source": [
    "* Preparing the annotation coordinates list for use..."
   ]
  },
  {
   "cell_type": "code",
   "execution_count": 37,
   "metadata": {
    "collapsed": false
   },
   "outputs": [
    {
     "name": "stdout",
     "output_type": "stream",
     "text": [
      "The annotations and their positions are: \n",
      " [5UTR: 0 to 95, \"Capsid\": 96 to 437, \"SP\\prM\": 396 to 437, \"prM\": 438 to 935, \"M\\(mature\\form)\": 711 to 935, E: 936 to 2420, \"NS1\": 2421 to 3476, \"NS2A\": 3477 to 4130, \"NS2B\": 4131 to 4520, \"NS3\": 4521 to 6374, \"NS4A\": 6375 to 6824, \"NS4B\": 6825 to 7568, \"NS5\": 7569 to 10271, 3UTR: 10272 to 10722]\n"
     ]
    }
   ],
   "source": [
    "import sys\n",
    "annotations = '/Users/pvmarkov/dengue/data/ref_geno_anottation_relabel.gff'\n",
    "\n",
    "try:\n",
    "    f= open (annotations, 'r')\n",
    "except IOError:\n",
    "    print (\"Unknown file \" + annotations)\n",
    "    sys.exit()\n",
    "    \n",
    "line = \"\"\n",
    "annots_list = list ()\n",
    "line_list = list ()\n",
    "for l in f:\n",
    "    if ('CDS' in l or 'UTR' in l) and 'DEN2' not in l and 'Beta-lactamase' not in l:\n",
    "        line_list = l.split()\n",
    "        annots_list.append (make_annotation (line_list [12], line_list [3], line_list [4], correction))\n",
    "#        print (l)\n",
    "#        print (line_list)\n",
    "annots_list.sort (key=lambda x: x.start)\n",
    "print ('The annotations and their positions are: \\n',annots_list)\n",
    "#print (annots_list [0].name)\n",
    "#print (annots_list [0].start)\n",
    "            \n",
    "\n",
    "f.close()"
   ]
  },
  {
   "cell_type": "markdown",
   "metadata": {},
   "source": [
    "----\n",
    "\n",
    "* __Defining the function producing mutation frequencies__\n",
    "* __Calling the function producing mutation frequencies__\n",
    "* __Frequencies are passed to a file__"
   ]
  },
  {
   "cell_type": "code",
   "execution_count": 42,
   "metadata": {
    "collapsed": false
   },
   "outputs": [],
   "source": [
    "myvector = range (len (counts_dataframe ['majorsequence']))\n",
    "\n",
    "def getting_mutation_frequencies (myvector, input_counts_dataframe_file, output_file):\n",
    "    AC = AT = AG = CA = CT = CG = TA = TC = TG = GA = GC = GT = AA = CC = TT = GG = 0\n",
    "    As_count_in_genome = Cs_count_in_genome = Ts_count_in_genome = Gs_count_in_genome = 0\n",
    "    for row in myvector:\n",
    "        if input_counts_dataframe_file ['majorsequence'][row] == \"a\":\n",
    "            As_count_in_genome = As_count_in_genome + 1\n",
    "            AA = AA + input_counts_dataframe_file ['As'][row]\n",
    "            AC = AC + input_counts_dataframe_file ['Cs'][row] # This one and the ones below help sum each individual mutation.\n",
    "            AT = AT + input_counts_dataframe_file ['Ts'][row] # This one and the ones below help sum each individual mutation.\n",
    "            AG = AG + input_counts_dataframe_file ['Gs'][row]\n",
    "\n",
    "        elif input_counts_dataframe_file ['majorsequence'][row] == \"c\":\n",
    "            Cs_count_in_genome = Cs_count_in_genome + 1\n",
    "            CC = CC + input_counts_dataframe_file ['Cs'][row]\n",
    "            CA = CA + input_counts_dataframe_file ['As'][row] # This one and the ones below help sum each individual mutation.\n",
    "            CT = CT + input_counts_dataframe_file ['Ts'][row] # This one and the ones below help sum each individual mutation.\n",
    "            CG = CG + input_counts_dataframe_file ['Gs'][row]\n",
    "\n",
    "        elif input_counts_dataframe_file ['majorsequence'][row] == \"t\":\n",
    "            Ts_count_in_genome = Ts_count_in_genome + 1\n",
    "            TT = TT + input_counts_dataframe_file ['Ts'][row]\n",
    "            TA = TA + input_counts_dataframe_file ['As'][row] # This one and the ones below help sum each individual mutation.\n",
    "            TC = TC + input_counts_dataframe_file ['Cs'][row] # This one and the ones below help sum each individual mutation.\n",
    "            TG = TG + input_counts_dataframe_file ['Gs'][row]\n",
    "\n",
    "        else:\n",
    "            Gs_count_in_genome = Gs_count_in_genome + 1\n",
    "            GG = GG + input_counts_dataframe_file ['Gs'][row]\n",
    "            GA = GA + input_counts_dataframe_file ['As'][row] # This one and the ones below help sum each individual mutation.\n",
    "            GC = GC + input_counts_dataframe_file ['Cs'][row] # This one and the ones below help sum each individual mutation.\n",
    "            GT = GT + input_counts_dataframe_file ['Ts'][row]\n",
    "\n",
    "    total_mutations_count = AC + AT + AG + CA + CT + CG + TA + TC + TG + GA + GC + GT\n",
    "\n",
    "    freqAC = AC / total_mutations_count\n",
    "    freqAT = AT / total_mutations_count\n",
    "    freqAG = AG / total_mutations_count\n",
    "    freqCA = CA / total_mutations_count\n",
    "    freqCT = CT / total_mutations_count\n",
    "    freqCG = CG / total_mutations_count\n",
    "    freqTA = TA / total_mutations_count\n",
    "    freqTC = TC / total_mutations_count\n",
    "    freqTG = TG / total_mutations_count\n",
    "    freqGA = GA / total_mutations_count\n",
    "    freqGC = GC / total_mutations_count\n",
    "    freqGT = GT / total_mutations_count\n",
    "\n",
    "    total_adjusted_mutations = (AC/As_count_in_genome) + (AT/As_count_in_genome) + (AG/As_count_in_genome) + (CA/Cs_count_in_genome) + (CT/Cs_count_in_genome) + (CG/Cs_count_in_genome) + (TA/Ts_count_in_genome) + (TC/Ts_count_in_genome) + (TG/Ts_count_in_genome) + (GA/Gs_count_in_genome) + (GC/Gs_count_in_genome) + (GT/Gs_count_in_genome)\n",
    "\n",
    "    adjustedfreqAC = (AC/As_count_in_genome) / total_adjusted_mutations\n",
    "    adjustedfreqAT = (AT/As_count_in_genome) / total_adjusted_mutations\n",
    "    adjustedfreqAG = (AG/As_count_in_genome) / total_adjusted_mutations\n",
    "    adjustedfreqCA = (CA/Cs_count_in_genome) / total_adjusted_mutations\n",
    "    adjustedfreqCT = (CT/Cs_count_in_genome) / total_adjusted_mutations\n",
    "    adjustedfreqCG = (CG/Cs_count_in_genome) / total_adjusted_mutations\n",
    "    adjustedfreqTA = (TA/Ts_count_in_genome) / total_adjusted_mutations\n",
    "    adjustedfreqTC = (TC/Ts_count_in_genome) / total_adjusted_mutations\n",
    "    adjustedfreqTG = (TG/Ts_count_in_genome) / total_adjusted_mutations\n",
    "    adjustedfreqGA = (GA/Gs_count_in_genome) / total_adjusted_mutations\n",
    "    adjustedfreqGC = (GC/Gs_count_in_genome) / total_adjusted_mutations\n",
    "    adjustedfreqGT = (GT/Gs_count_in_genome) / total_adjusted_mutations\n",
    "\n",
    "\n",
    "    adjust_meth2_AC = AC / (AA + AC + AT + AG)\n",
    "    adjust_meth2_AT = AT / (AA + AC + AT + AG)\n",
    "    adjust_meth2_AG = AG / (AA + AC + AT + AG)\n",
    "    adjust_meth2_CA = CA / (CC + CA + CT + CG)\n",
    "    adjust_meth2_CT = CT / (CC + CA + CT + CG)\n",
    "    adjust_meth2_CG = CG / (CC + CA + CT + CG)\n",
    "    adjust_meth2_TA = TA / (TT + TA + TC + TG)\n",
    "    adjust_meth2_TC = TC / (TT + TA + TC + TG)\n",
    "    adjust_meth2_TG = TG / (TT + TA + TC + TG)\n",
    "    adjust_meth2_GA = GA / (GG + GA + GC + GT)\n",
    "    adjust_meth2_GC = GC / (GG + GA + GC + GT)\n",
    "    adjust_meth2_GT = GT / (GG + GA + GC + GT)\n",
    "\n",
    "    #mutationfrequencies_dataframe = pd.DataFrame ({'position': position, 'coverage':coverage, 'As':As, 'Cs':Cs, 'Ts':Ts, 'Gs':Gs, 'Ns':Ns, 'majorbases':majorbases, 'majorbase_ratio': majorbase_ratio, 'secondbase': secondbase, 'secondbase_ratio': secondbase_ratio, 'majorsequence': list (majorsequence), 'expected_number_of_errors':expected_number_of_errors, 'probability_of_seq_error': probability_of_seq_error, 'number_of_indels_by_position' : indels_by_column_list} )\n",
    "\n",
    "    #counts_dataframe.to_csv (csv_outputfile)\n",
    "\n",
    "    file = open (output_file, \"w\")\n",
    "    file.write (\"freqCT, \" + str (freqCT) + \", \" + str(adjustedfreqCT) + \", \" + str(adjust_meth2_CT) + \"\\n\" + \"freqGA, \" + str (freqGA) + \", \" + str(adjustedfreqGA) + \", \" + str(adjust_meth2_GA) + \"\\n\" + \"freqTC, \" + str (freqTC) + \", \" + str(adjustedfreqTC) + \", \" + str(adjust_meth2_TC) + \"\\n\" + \"freqAG, \" + str (freqAG) + \", \" + str(adjustedfreqAG) + \", \" + str(adjust_meth2_AG) + \"\\n\" + \"freqGT, \" + str (freqGT) + \", \" + str(adjustedfreqGT) + \", \" + str(adjust_meth2_GT) + \"\\n\" + \"freqCA, \" + str (freqCA) + \", \" + str(adjustedfreqCA) + \", \" + str(adjust_meth2_CA) + \"\\n\" +  \"freqGC, \" + str (freqGC) + \", \" + str(adjustedfreqGC) + \", \" + str(adjust_meth2_GC) + \"\\n\" + \"freqTA, \" + str (freqTA) + \", \" + str(adjustedfreqTA) + \", \" + str(adjust_meth2_TA) + \"\\n\" + \"freqAT, \" +  str (freqAT) + \", \" + str(adjustedfreqAT) + \", \" + str(adjust_meth2_AT) + \"\\n\" + \"freqCG, \" + str (freqCG) + \", \" + str(adjustedfreqCG) + \", \" + str(adjust_meth2_CG) + \"\\n\" + \"freqAC, \" + str(freqAC) + \", \" + str(adjustedfreqAC) + \", \" + str(adjust_meth2_AC) + \"\\n\" + \"freqTG, \" + str (freqTG) + \", \" + str(adjustedfreqTG) + \", \" + str(adjust_meth2_TG))\n",
    "    file.close()\n",
    "\n",
    "# Obtaining mutation frequencies by codon with sequencing quality 30.\n",
    "#getting_mutation_frequencies (myvector, counts_dataframe, \"/Users/pvmarkov/dengue/data/mutation_frequencies_4.csv\")\n",
    "\n",
    "# Obtaining mutation frequencies by codon with sequencing quality 60.\n",
    "getting_mutation_frequencies (myvector, counts_dataframe, \"/Users/pvmarkov/dengue/data/mutation_frequencies_SeqQ60.csv\")\n"
   ]
  },
  {
   "cell_type": "markdown",
   "metadata": {},
   "source": [
    "----\n",
    "\n",
    "* Using the function creating the mutation frequencies to obtain these separately by codon positions...\n",
    "* Frequencies are passed to a file"
   ]
  },
  {
   "cell_type": "code",
   "execution_count": 43,
   "metadata": {
    "collapsed": false
   },
   "outputs": [],
   "source": [
    "geneslist = list()\n",
    "global_list1 = list()\n",
    "global_list2 = list()\n",
    "global_list3 = list()\n",
    "for x in annots_list:\n",
    "    if x.start>0 and x.end< len(counts_dataframe ['majorsequence']) and 'UTR' not in x.name:\n",
    "        list0, list1, list2, list3 = determin_codon_posit_coordinates(x) # provides three lists of majorbase_ratio values for positions 1, 2 and 3 over the length of segment x\n",
    "        geneslist.append (list1) # these three commands create list of lists... \n",
    "        geneslist.append (list2) # ...created by appending list of values for codon position1, then 2, then 3 for each gene in turn...\n",
    "        geneslist.append (list3) # ...as the loop goes through members of annots_list\n",
    "        list1_pruned = list1[0:-1] # I think I've done this because codon position 3 has one...\n",
    "        list2_pruned = list2[0:-1] # ...nucleotide less and unless lists 1, 2 and 3 are same lentht there is error\n",
    "        global_list1.extend(list1_pruned) # these three create a list of values for...\n",
    "        global_list2.extend(list2_pruned) # ... codon positions 1, 2 and 3 throughout...\n",
    "        global_list3.extend(list3)        # ... the entire genome.\n",
    "\n",
    "        \n",
    "getting_mutation_frequencies (global_list1, counts_dataframe, \"/Users/pvmarkov/dengue/data/mutation_frequencies_Codon_SeqQ60_Pos1.csv\")\n",
    "\n",
    "getting_mutation_frequencies (global_list2, counts_dataframe, \"/Users/pvmarkov/dengue/data/mutation_frequencies_Codon_SeqQ60_Pos2.csv\")\n",
    "\n",
    "getting_mutation_frequencies (global_list3, counts_dataframe, \"/Users/pvmarkov/dengue/data/mutation_frequencies_Codon_SeqQ60_Pos3.csv\")\n"
   ]
  },
  {
   "cell_type": "code",
   "execution_count": 40,
   "metadata": {
    "collapsed": false
   },
   "outputs": [
    {
     "name": "stdout",
     "output_type": "stream",
     "text": [
      "    freqCT   0.0890311510032   0.129057938589   0.000199335430353\n",
      "0   freqGA          0.225500         0.171826            0.000277\n",
      "1   freqTC          0.170473         0.254523            0.000404\n",
      "2   freqAG          0.170986         0.119925            0.000184\n",
      "3   freqGT          0.056311         0.042908            0.000069\n",
      "4   freqCA          0.024529         0.035557            0.000055\n",
      "5   freqGC          0.069730         0.053133            0.000086\n",
      "6   freqTA          0.024405         0.036437            0.000058\n",
      "7   freqAT          0.060879         0.042699            0.000065\n",
      "8   freqCG          0.014432         0.020920            0.000032\n",
      "9   freqAC          0.059266         0.041568            0.000064\n",
      "10  freqTG          0.034458         0.051448            0.000082\n"
     ]
    }
   ],
   "source": []
  },
  {
   "cell_type": "code",
   "execution_count": null,
   "metadata": {
    "collapsed": true
   },
   "outputs": [],
   "source": []
  }
 ],
 "metadata": {
  "kernelspec": {
   "display_name": "Python 3",
   "language": "python",
   "name": "python3"
  },
  "language_info": {
   "codemirror_mode": {
    "name": "ipython",
    "version": 3
   },
   "file_extension": ".py",
   "mimetype": "text/x-python",
   "name": "python",
   "nbconvert_exporter": "python",
   "pygments_lexer": "ipython3",
   "version": "3.5.1"
  }
 },
 "nbformat": 4,
 "nbformat_minor": 0
}
